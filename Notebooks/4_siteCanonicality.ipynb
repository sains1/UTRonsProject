{
 "cells": [
  {
   "cell_type": "markdown",
   "metadata": {},
   "source": [
    "### Looking at the site canonicality for novel UTRons"
   ]
  },
  {
   "cell_type": "markdown",
   "metadata": {},
   "source": [
    "Used cgat script gtf2gtf.py with options to output splice information\n",
    "\n",
    "Analysed splice info of a GTF file that contained the 3' UTRs of all the novel UTRons by taking the last 2 exons of every gene\n",
    "\n",
    "\n",
    "    (e.g.)Original novel utrons gtf □---□□□□□□□□□□  \n",
    "          Filtered novel Utrons gtf ----□□□---□□□□ \n",
    "          \n",
    "          \n",
    "Results were outputted to a text file on the shared folder which has the info for the 3 types of known splice sites and a column for unknown splice sites\n",
    "\n",
    "Also found utron lengths of all the genes (from lengths notebook)"
   ]
  },
  {
   "cell_type": "code",
   "execution_count": 1,
   "metadata": {
    "collapsed": false
   },
   "outputs": [],
   "source": [
    "import pandas as pd\n",
    "import math\n",
    "import sqlite3\n",
    "import numpy"
   ]
  },
  {
   "cell_type": "markdown",
   "metadata": {},
   "source": [
    "Get length and splice info into a merged dataframe for each transcript"
   ]
  },
  {
   "cell_type": "code",
   "execution_count": 2,
   "metadata": {
    "collapsed": false
   },
   "outputs": [
    {
     "data": {
      "text/html": [
       "<div>\n",
       "<table border=\"1\" class=\"dataframe\">\n",
       "  <thead>\n",
       "    <tr style=\"text-align: right;\">\n",
       "      <th></th>\n",
       "      <th>transcript_id</th>\n",
       "      <th>U2-GT/AG</th>\n",
       "      <th>U2-nc-GC/AG</th>\n",
       "      <th>U12-AT/AC</th>\n",
       "      <th>unknown</th>\n",
       "      <th>Length</th>\n",
       "    </tr>\n",
       "  </thead>\n",
       "  <tbody>\n",
       "    <tr>\n",
       "      <th>0</th>\n",
       "      <td>MSTRG.10103.1</td>\n",
       "      <td>0</td>\n",
       "      <td>0</td>\n",
       "      <td>0</td>\n",
       "      <td>1</td>\n",
       "      <td>83</td>\n",
       "    </tr>\n",
       "    <tr>\n",
       "      <th>1</th>\n",
       "      <td>MSTRG.10204.4</td>\n",
       "      <td>0</td>\n",
       "      <td>0</td>\n",
       "      <td>0</td>\n",
       "      <td>1</td>\n",
       "      <td>47</td>\n",
       "    </tr>\n",
       "    <tr>\n",
       "      <th>2</th>\n",
       "      <td>MSTRG.1023.20</td>\n",
       "      <td>0</td>\n",
       "      <td>1</td>\n",
       "      <td>0</td>\n",
       "      <td>0</td>\n",
       "      <td>42</td>\n",
       "    </tr>\n",
       "    <tr>\n",
       "      <th>3</th>\n",
       "      <td>MSTRG.1024.1</td>\n",
       "      <td>0</td>\n",
       "      <td>1</td>\n",
       "      <td>0</td>\n",
       "      <td>0</td>\n",
       "      <td>53</td>\n",
       "    </tr>\n",
       "    <tr>\n",
       "      <th>4</th>\n",
       "      <td>MSTRG.1024.11</td>\n",
       "      <td>0</td>\n",
       "      <td>1</td>\n",
       "      <td>0</td>\n",
       "      <td>0</td>\n",
       "      <td>137</td>\n",
       "    </tr>\n",
       "  </tbody>\n",
       "</table>\n",
       "</div>"
      ],
      "text/plain": [
       "   transcript_id  U2-GT/AG  U2-nc-GC/AG  U12-AT/AC  unknown  Length\n",
       "0  MSTRG.10103.1         0            0          0        1      83\n",
       "1  MSTRG.10204.4         0            0          0        1      47\n",
       "2  MSTRG.1023.20         0            1          0        0      42\n",
       "3   MSTRG.1024.1         0            1          0        0      53\n",
       "4  MSTRG.1024.11         0            1          0        0     137"
      ]
     },
     "execution_count": 2,
     "metadata": {},
     "output_type": "execute_result"
    }
   ],
   "source": [
    "spliceInfo = pd.read_csv(\"/shared/sudlab1/General/projects/utrons_project/misc_files/SpliceSite/spliceAnalysis.txt\", sep=\"\\t\")\n",
    "lengthInfo = pd.read_csv(\"/shared/sudlab1/General/projects/utrons_project/misc_files/SpliceSite/novelLengths.txt\", sep=\"\\t\")\n",
    "spliceInfo = pd.merge(spliceInfo, lengthInfo, left_on=\"transcript_id\", right_on=\"transcript_id\")\n",
    "spliceInfo[0:5]"
   ]
  },
  {
   "cell_type": "code",
   "execution_count": 3,
   "metadata": {
    "collapsed": false
   },
   "outputs": [],
   "source": [
    "# Find the percentages of known and unknown sites for a range of length thresholds\n",
    "knownPercents = []\n",
    "unknownPercents = []\n",
    "canonicalPercents = []\n",
    "lengthRange = range(25,5000,1)\n",
    "for length in lengthRange:\n",
    "    \n",
    "    # get a dataframe of just the values corresponding to >= length value\n",
    "    lengthValues = spliceInfo[spliceInfo[\"Length\"]>=length]\n",
    "    numTxs = len(lengthValues)\n",
    "    \n",
    "    # get percentages at known / unknwon sites\n",
    "    canonicalSite = float(len(lengthValues[lengthValues[\"U2-GT/AG\"]==1])) / numTxs\n",
    "    unknownSite =  float(len(lengthValues[lengthValues[\"unknown\"]==1])) / numTxs\n",
    "    knownSite =  float(len(lengthValues[lengthValues[\"unknown\"]!=1])) / numTxs\n",
    "    \n",
    "    # Append percentage to list\n",
    "    knownPercents.append(knownSite)\n",
    "    unknownPercents.append(unknownSite)\n",
    "    canonicalPercents.append(canonicalSite)"
   ]
  },
  {
   "cell_type": "code",
   "execution_count": 5,
   "metadata": {
    "collapsed": false
   },
   "outputs": [
    {
     "name": "stdout",
     "output_type": "stream",
     "text": [
      "Populating the interactive namespace from numpy and matplotlib\n"
     ]
    },
    {
     "data": {
      "image/png": "[encoded data removed]",
      "text/plain": [
       "<matplotlib.figure.Figure at 0x7f6bf1217190>"
      ]
     },
     "metadata": {},
     "output_type": "display_data"
    }
   ],
   "source": [
    "%pylab inline\n",
    "pylab.plot(lengthRange, knownPercents, color=\"red\", label=\"Known Sites\")\n",
    "pylab.plot(lengthRange, canonicalPercents, color=\"blue\", label=\"U2-GT/AG (canonical) Sites\")\n",
    "\n",
    "pylab.ylim(0.65, 1.0)\n",
    "pylab.xlim(0,2000)\n",
    "pylab.legend()\n",
    "\n",
    "pylab.xlabel(\"Length (bp)\")\n",
    "pylab.ylabel(\"Proportion\")\n",
    "\n",
    "pylab.savefig(\"./images/4_CanonicalVsLength\", dpi=300)"
   ]
  },
  {
   "cell_type": "code",
   "execution_count": 6,
   "metadata": {
    "collapsed": false
   },
   "outputs": [
    {
     "name": "stdout",
     "output_type": "stream",
     "text": [
      "Populating the interactive namespace from numpy and matplotlib\n"
     ]
    },
    {
     "data": {
      "image/png": "[encoded data removed]",
      "text/plain": [
       "<matplotlib.figure.Figure at 0x7f6bf1217210>"
      ]
     },
     "metadata": {},
     "output_type": "display_data"
    }
   ],
   "source": [
    "%pylab inline\n",
    "\n",
    "pylab.plot(lengthRange, knownPercents, color=\"red\", label=\"Known Sites\")\n",
    "pylab.plot(lengthRange, canonicalPercents, color=\"blue\", label=\"U2-GT/AG (canonical) Sites\")\n",
    "\n",
    "pylab.ylim(0.65, 1.0)\n",
    "pylab.xlim(0,200)\n",
    "pylab.legend()\n",
    "\n",
    "pylab.xlabel(\"Length (bp)\")\n",
    "pylab.ylabel(\"Proportion\")\n",
    "\n",
    "pylab.savefig(\"./images/4_CanonicalVsLength_Zoomed\", dpi=300)"
   ]
  },
  {
   "cell_type": "markdown",
   "metadata": {},
   "source": [
    "At short lengths the percent at non-canonical sites is fairly high - this elvels off at ~200 bp\n",
    "\n",
    "Poss that <200bp utrons are less likely to be real\n",
    "\n",
    "Below - outputting lists of utron ids which are known / unknown at various lengths"
   ]
  },
  {
   "cell_type": "code",
   "execution_count": 13,
   "metadata": {
    "collapsed": false
   },
   "outputs": [],
   "source": [
    "def writeFiles(Length):\n",
    "    a = spliceInfo[spliceInfo[\"Length\"]<=Length]\n",
    "    b1 = a[a[\"unknown\"]==1].ix[:,0]\n",
    "    b2 = a[a[\"unknown\"]!=1].ix[:,0]\n",
    "\n",
    "    unknownFile = \"/shared/sudlab1/General/projects/utrons_project/misc_files/SpliceSite/novelUtrons_unknown_%dbp.txt\" % Length\n",
    "    knownFile = \"/shared/sudlab1/General/projects/utrons_project/misc_files/SpliceSite/novelUtrons_known_%dbp.txt\" % Length\n",
    "    b1.to_csv(unknownFile, header=None, sep=\"\\t\")\n",
    "    b2.to_csv(knownFile, header=None, sep=\"\\t\")\n",
    "\n",
    "writeFiles(75)\n",
    "writeFiles(100)\n",
    "writeFiles(200)\n",
    "writeFiles(300)\n",
    "writeFiles(100000)"
   ]
  },
  {
   "cell_type": "code",
   "execution_count": 37,
   "metadata": {
    "collapsed": false
   },
   "outputs": [
    {
     "name": "stdout",
     "output_type": "stream",
     "text": [
      "0.465892597968 0.198113207547 0.0435413642961 0.292452830189\n"
     ]
    }
   ],
   "source": [
    "length = 100\n",
    "x = spliceInfo[spliceInfo[\"Length\"]<=length]\n",
    "f = float(len(x))\n",
    "print x[\"U2-GT/AG\"].sum() /f , x[\"U2-nc-GC/AG\"].sum() / f, x[\"U12-AT/AC\"].sum()/ f, x[\"unknown\"].sum()/ f"
   ]
  }
 ],
 "metadata": {
  "kernelspec": {
   "display_name": "Python 2",
   "language": "python",
   "name": "python2"
  },
  "language_info": {
   "codemirror_mode": {
    "name": "ipython",
    "version": 2
   },
   "file_extension": ".py",
   "mimetype": "text/x-python",
   "name": "python",
   "nbconvert_exporter": "python",
   "pygments_lexer": "ipython2",
   "version": "2.7.13"
  }
 },
 "nbformat": 4,
 "nbformat_minor": 2
}
