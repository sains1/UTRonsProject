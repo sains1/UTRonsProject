{
 "cells": [
  {
   "cell_type": "markdown",
   "metadata": {},
   "source": [
    "#### Distributions of expression levels for known and novel UTRons in all bladder cancer samples "
   ]
  },
  {
   "cell_type": "code",
   "execution_count": 1,
   "metadata": {
    "collapsed": false
   },
   "outputs": [
    {
     "data": {
      "text/plain": [
       "<sqlite3.Cursor at 0x7f728c1c3340>"
      ]
     },
     "execution_count": 1,
     "metadata": {},
     "output_type": "execute_result"
    }
   ],
   "source": [
    "import sqlite3\n",
    "import pandas as pd\n",
    "import numpy as np\n",
    "\n",
    "\n",
    "cnx = sqlite3.connect('/shared/sudlab1/General/projects/utrons_project/BladderCancerUtrons/431BladderUtrons.db')\n",
    "cnx.execute(\"ATTACH '/shared/sudlab1/General/annotations/hg38_noalt_ensembl85/csvdb' as annotations\")"
   ]
  },
  {
   "cell_type": "markdown",
   "metadata": {},
   "source": [
    "Get novel and known ids into seperate databases"
   ]
  },
  {
   "cell_type": "code",
   "execution_count": 3,
   "metadata": {
    "collapsed": false
   },
   "outputs": [],
   "source": [
    "# Get novel tx ids\n",
    "query_text1 = \"\"\"\n",
    "    SELECT uid.transcript_id AS name, ti.gene_name AS gene\n",
    "    FROM novel_utrons_ids AS uid\n",
    "    INNER JOIN annotations.transcript_info AS ti\n",
    "    ON ti.transcript_id = uid.match_transcript_id\n",
    "    WHERE uid.transcript_id like \"MSTRG%\" AND uid.track=\"agg-agg-agg\"\n",
    "    ORDER BY uid.transcript_id\n",
    "    \"\"\"\n",
    "novelUtronIds = pd.read_sql_query(query_text1, cnx)\n",
    "\n",
    "\n",
    "# Get known tx ids\n",
    "query_text1 = \"\"\"\n",
    "    SELECT uid.transcript_id AS name, ti.gene_name AS gene\n",
    "    FROM all_utrons_ids AS uid\n",
    "    INNER JOIN transcript_class AS tc\n",
    "    ON tc.transcript_id = uid.transcript_id\n",
    "    INNER JOIN annotations.transcript_info AS ti\n",
    "    ON ti.transcript_id = tc.match_transcript_id\n",
    "    WHERE uid.transcript_id like \"ENS%\" AND tc.track=\"agg-agg-agg\"\n",
    "    GROUP BY uid.transcript_id\n",
    "    ORDER BY uid.transcript_id\n",
    "    \"\"\"\n",
    "allUtronIds = pd.read_sql_query(query_text1, cnx)"
   ]
  },
  {
   "cell_type": "markdown",
   "metadata": {},
   "source": [
    "Get the proportion of genes at each tpm threshold for each sample into a dataframe\n",
    "\n",
    "    (e.g.) tpm   sample1_proportion      sample2_proportion     sample3_proportion"
   ]
  },
  {
   "cell_type": "code",
   "execution_count": 5,
   "metadata": {
    "collapsed": false
   },
   "outputs": [],
   "source": [
    "# Range of tpms to loop through\n",
    "tpmRange = range(0,500,1)\n",
    "\n",
    "\n",
    "# Function gets the  proportions of utron genes which are present at each tpm threshold\n",
    "def getDistributions(sample):\n",
    "    \n",
    "    # File with the salmon quantification info\n",
    "    filename = \"/shared/sudlab1/General/projects/utrons_project/BladderCancerUtrons/Quantifications/%s_agg-agg-agg.sf\" % sample\n",
    "    sampleTpms = pd.read_csv(filename, sep=\"\\t\")\n",
    "    \n",
    "    #Filter to get novel/all utrons into a dataframe\n",
    "    novelTpms = pd.merge(sampleTpms, novelUtronIds, left_on=\"Name\", right_on=\"name\")\n",
    "    allTpms = pd.merge(sampleTpms, allUtronIds, left_on=\"Name\", right_on=\"name\")\n",
    "    \n",
    "    novelDistributions = []\n",
    "    allDistributions = []\n",
    "    numNovel = len(novelTpms)\n",
    "    numAll = len(allTpms)\n",
    "    \n",
    "    # Get proportions at a range of tpms (from 0 -> 500)\n",
    "    for tpm in tpmRange:\n",
    "        # Get novel Utron proportions\n",
    "        number = len(novelTpms[novelTpms[\"TPM\"] <= tpm ])\n",
    "        proportion = float(number) / numNovel\n",
    "        novelDistributions.append(proportion)\n",
    "        \n",
    "        # Get all Utron Proportions\n",
    "        number = len(allTpms[allTpms[\"TPM\"] <= tpm ])\n",
    "        proportion = float(number) / numAll\n",
    "        allDistributions.append(proportion)\n",
    "        \n",
    "    return novelDistributions, allDistributions\n",
    "    \n",
    "# Create initial array using ZF-WT-1\n",
    "novelProportions,allProportions  = getDistributions(\"ZF-WT-1\")\n",
    "\n",
    "# Loop through rest of samples\n",
    "for num in range(2,432,1):\n",
    "    if num != 252 and num != 347:\n",
    "        sample = \"ZF-WT-%d\" % num\n",
    "        a, b= getDistributions(sample)\n",
    "        \n",
    "        # append proportions to their respective array\n",
    "        novelProportions = np.column_stack([novelProportions, a])\n",
    "        allProportions = np.column_stack([allProportions, b])"
   ]
  },
  {
   "cell_type": "markdown",
   "metadata": {},
   "source": [
    "Average proportions across all samples"
   ]
  },
  {
   "cell_type": "code",
   "execution_count": 6,
   "metadata": {
    "collapsed": true
   },
   "outputs": [],
   "source": [
    "# Number of samples used\n",
    "numSamples = len(novelProportions[0, :])\n",
    "\n",
    "\n",
    "# Lists to hold averages\n",
    "novelAverages = []\n",
    "allAverages = []\n",
    "\n",
    "# Loop through each tpm in the tpmrange set previously and average to the proportions\n",
    "for tpm in tpmRange:\n",
    "    # get novel averages\n",
    "    novelAverage = sum(novelProportions[tpm, :]) / numSamples\n",
    "    novelAverages.append(novelAverage)\n",
    "    \n",
    "    # get all averages\n",
    "    allAverage = sum(allProportions[tpm, :]) / numSamples\n",
    "    allAverages.append(allAverage)"
   ]
  },
  {
   "cell_type": "code",
   "execution_count": 8,
   "metadata": {
    "collapsed": false
   },
   "outputs": [
    {
     "name": "stdout",
     "output_type": "stream",
     "text": [
      "Populating the interactive namespace from numpy and matplotlib\n"
     ]
    },
    {
     "data": {
      "image/png": "[encoded data removed]",
      "text/plain": [
       "<matplotlib.figure.Figure at 0x7f72894560d0>"
      ]
     },
     "metadata": {},
     "output_type": "display_data"
    }
   ],
   "source": [
    "\n",
    "# Plot graphs for novel and known utron distribtuons\n",
    "%pylab inline\n",
    "\n",
    "#Plot Vals\n",
    "pylab.plot(tpmRange, novelAverages, label=\"Novel UTRons\")\n",
    "pylab.plot(tpmRange, allAverages, label=\"Annotated UTRons\")\n",
    "\n",
    "# Plot Options\n",
    "pylab.xlim(-1,40)\n",
    "pylab.ylim(0.5,1.05)\n",
    "pylab.ylabel(\"Cumulative proportion of UTRons\"); pylab.xlabel(\"TPM\")\n",
    "pylab.legend(fontsize=\"small\", loc=4)\n",
    "pylab.savefig(\"./images/2_ExpressionDistributions\", dpi=300)"
   ]
  },
  {
   "cell_type": "code",
   "execution_count": 14,
   "metadata": {
    "collapsed": false
   },
   "outputs": [
    {
     "name": "stdout",
     "output_type": "stream",
     "text": [
      "percent between 0 - 1 tpm for novel and known\n",
      "0.236457545157\n",
      "0.197193348112\n",
      "\n",
      "percent between 0 - 5 tpm for novel and known\n",
      "0.302095576184\n",
      "0.279907222164\n",
      "\n",
      "percent with 0 quantification\n",
      "0.610877429399\n",
      "0.651153842755\n"
     ]
    }
   ],
   "source": [
    "print \"percent between 0 - 1 tpm for novel and known\"\n",
    "print novelAverages[1] - novelAverages[0]\n",
    "print allAverages[1] - allAverages[0]\n",
    "\n",
    "print \"\\npercent between 0 - 5 tpm for novel and known\"\n",
    "print novelAverages[5] - novelAverages[0]\n",
    "print allAverages[5] - allAverages[0]\n",
    "\n",
    "print \"\\npercent with 0 quantification\"\n",
    "print novelAverages[0]\n",
    "print allAverages[0]"
   ]
  }
 ],
 "metadata": {
  "kernelspec": {
   "display_name": "Python 2",
   "language": "python",
   "name": "python2"
  },
  "language_info": {
   "codemirror_mode": {
    "name": "ipython",
    "version": 2
   },
   "file_extension": ".py",
   "mimetype": "text/x-python",
   "name": "python",
   "nbconvert_exporter": "python",
   "pygments_lexer": "ipython2",
   "version": "2.7.13"
  }
 },
 "nbformat": 4,
 "nbformat_minor": 2
}
