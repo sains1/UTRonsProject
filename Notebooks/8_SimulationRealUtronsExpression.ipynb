{
 "cells": [
  {
   "cell_type": "markdown",
   "metadata": {},
   "source": [
    "#### Looking at the UTRons assembled in bladder cancer expression levels within the simulation quantification databases"
   ]
  },
  {
   "cell_type": "code",
   "execution_count": 1,
   "metadata": {
    "collapsed": false
   },
   "outputs": [
    {
     "data": {
      "text/plain": [
       "<sqlite3.Cursor at 0x7fb2f2040340>"
      ]
     },
     "execution_count": 1,
     "metadata": {},
     "output_type": "execute_result"
    }
   ],
   "source": [
    "import pandas as pd\n",
    "import sqlite3\n",
    "\n",
    "\n",
    "cnx = sqlite3.connect('/shared/sudlab1/General/projects/utrons_project/Simulations/RealUtronsQuant/431bladderSimQuants.stringtie.db')# Connect to quant db\n",
    "cnx.execute(\"ATTACH '/shared/sudlab1/General/projects/utrons_project/BladderCancerUtrons/431BladderUtrons.db' as utrons\") # Attach real data db\n",
    "cnx.execute(\"ATTACH '/shared/sudlab1/General/annotations/hg38_noalt_ensembl85/csvdb' as annotations\") # Attach Annotations"
   ]
  },
  {
   "cell_type": "code",
   "execution_count": 2,
   "metadata": {
    "collapsed": true
   },
   "outputs": [],
   "source": [
    "# Get FPKM totals for each sample\n",
    "query_text1 = '''\n",
    "    SELECT sum(FPKM), q.track\n",
    "    FROM agg_agg_agg_stringtie_transcript_data AS q\n",
    "    GROUP BY q.track\n",
    "    ORDER BY q.track\n",
    "    '''\n",
    "totals = pd.read_sql_query(query_text1, cnx)\n",
    "totals = totals.groupby(\"track\").sum() "
   ]
  },
  {
   "cell_type": "code",
   "execution_count": 4,
   "metadata": {
    "collapsed": false
   },
   "outputs": [
    {
     "name": "stdout",
     "output_type": "stream",
     "text": [
      "\n"
     ]
    }
   ],
   "source": [
    "\n",
    "def getTpms(sample, run):\n",
    "    query_text2 =   \"\"\"\n",
    "    SELECT t_name AS txId,ti.gene_name AS gene, FPKM\n",
    "    FROM agg_agg_agg_stringtie_transcript_data AS q\n",
    "    INNER JOIN utrons.novel_utrons_ids AS uid\n",
    "    ON uid.transcript_id=q.t_name\n",
    "    INNER JOIN annotations.transcript_info AS ti\n",
    "    ON ti.transcript_id = uid.match_transcript_id\n",
    "    WHERE uid.track='agg-agg-agg' AND q.track='\"\"\"+sample+\"\"\"' AND t_name like \"MSTRG%\"\n",
    "    GROUP BY uid.transcript_id\n",
    "    ORDER BY uid.transcript_id\n",
    "    \n",
    "                    \"\"\"\n",
    "    sampleTotal = totals.ix[sample][0]\n",
    "    sampleQuants = pd.read_sql(query_text2, cnx)\n",
    "    sampleQuants[\"TPM\"] = (sampleQuants[\"FPKM\"] / sampleTotal) * 1000000\n",
    "    \n",
    "    if run == 1:\n",
    "        return sampleQuants[[\"txId\",\"gene\", \"TPM\"]]\n",
    "    if run ==2:\n",
    "        return sampleQuants[\"TPM\"]\n",
    "    \n",
    "    \n",
    "    \n",
    "\n",
    "utronTpms = getTpms(\"GC-WT-1\", 1)\n",
    "for num in range(2,61,1):\n",
    "    print num\n",
    "    sample = \"GC-WT-%d\" %num\n",
    "    sampleTpms = getTpms(sample, 2)\n",
    "    utronTpms = pd.concat([utronTpms, sampleTpms], axis=1)"
   ]
  },
  {
   "cell_type": "code",
   "execution_count": 7,
   "metadata": {
    "collapsed": true
   },
   "outputs": [
    {
     "name": "stdout",
     "output_type": "stream",
     "text": [
      "0.0 0.2 0.4 0.6 0.8 1.0 1.2 1.4 1.6 1.8 2.0 2.2 2.4 2.6 2.8 3.0 3.2 3.4 3.6 3.8 4.0 4.2 4.4 4.6 4.8\n"
     ]
    }
   ],
   "source": [
    "\"\"\"\n",
    "Loop through a range of tpms and get the percent of utrons which quantify below the tpm threshold\n",
    "\"\"\"\n",
    "\n",
    "numGenes = len(utronTpms)\n",
    "def getZeros(tpm): \n",
    "    allSamples = 0\n",
    "    notallSamples = 0\n",
    "    total = 0\n",
    "    for gene in range(0, numGenes,1):\n",
    "        geneTpms = utronTpms.ix[gene, 1:].tolist()\n",
    "        if len([a for a in geneTpms if a <= tpm]) == 60:\n",
    "            allSamples += 1\n",
    "        else:\n",
    "            notallSamples += 1\n",
    "            \n",
    "        total += 1\n",
    "    percentage = float(allSamples) / total  \n",
    "    return percentage\n",
    "    \n",
    "    \n",
    "percentages = []\n",
    "for num in [float(a)/10 for a in range(0,50, 2)]:\n",
    "    print num,\n",
    "    percentage = getZeros(num)\n",
    "    percentages.append(percentage)"
   ]
  },
  {
   "cell_type": "code",
   "execution_count": 18,
   "metadata": {
    "collapsed": false
   },
   "outputs": [
    {
     "name": "stdout",
     "output_type": "stream",
     "text": [
      "Populating the interactive namespace from numpy and matplotlib\n",
      "[0.8795768917819365, 0.9377542717656632, 0.9491456468673718, 0.9544344995931652, 0.9593165174938975, 0.9621643612693247, 0.9654190398698128, 0.9703010577705452, 0.9743694060211554, 0.9776240846216436, 0.9800650935720098, 0.9808787632221319, 0.9812855980471928, 0.983319772172498, 0.984947111472742, 0.984947111472742, 0.9865744507729862, 0.9882017900732303, 0.9894222945484134, 0.9910496338486574, 0.9914564686737185, 0.9926769731489016, 0.9926769731489016, 0.9938974776240846, 0.9938974776240846]\n"
     ]
    },
    {
     "data": {
      "image/png": "[encoded data removed]",
      "text/plain": [
       "<matplotlib.figure.Figure at 0x7fb2eb7fead0>"
      ]
     },
     "metadata": {},
     "output_type": "display_data"
    }
   ],
   "source": [
    "\"\"\"\n",
    "Plot values from above\n",
    "\"\"\"\n",
    "\n",
    "%pylab inline\n",
    "tpms = [float(a)/10 for a in range(0,50,2)]\n",
    "print percentages\n",
    "pylab.plot(tpms, percentages, marker=\".\")\n",
    "pylab.ylabel(\"percentage\"); pylab.xlabel(\"TPM\")\n",
    "pylab.savefig(\"./images/8_RealUtronQuantInSims\", dpi=300)"
   ]
  },
  {
   "cell_type": "code",
   "execution_count": 16,
   "metadata": {
    "collapsed": false
   },
   "outputs": [
    {
     "name": "stdout",
     "output_type": "stream",
     "text": [
      " SFN SHPK ITPKC SPECC1L RP11-949J7.8 RP11-949J7.8 FAM53A HARS HLA-DQA2 HEBP2 SLC37A3 CLN8 CLN8 CLN8\n"
     ]
    }
   ],
   "source": [
    "\"\"\"\n",
    "Print genes with samples which quantify as > 5 in any of the 60 samples\n",
    "\"\"\"\n",
    "filename = open(\"/shared/sudlab1/General/projects/utrons_project/misc_files/Utrons_5tpmInSims.txt\", 'w')\n",
    "for gene in range(0, numGenes,1):\n",
    "        txName = utronTpms.ix[gene, 1]\n",
    "        geneTpms = utronTpms.ix[gene, 2:].tolist()\n",
    "        if len([a for a in geneTpms if a <= 5.0]) < 60:\n",
    "            print txName, \n",
    "            txName = txName + \"\\n\"\n",
    "            filename.write(txName)\n",
    "            \n",
    "filename.close()"
   ]
  },
  {
   "cell_type": "code",
   "execution_count": 17,
   "metadata": {
    "collapsed": false
   },
   "outputs": [
    {
     "name": "stdout",
     "output_type": "stream",
     "text": [
      "SFN PPP2R2D PPP2R2D PPP2R2D IGF2 FADS1 FADS1 A2M TRABD2B PSME1 RP11-701H24.9 IDH2 SPATA33 SHPK SEC14L1 SEC14L1 SEC14L1 SEC14L1 SEC14L1 NEDD4L ITPKC SPECC1L RP11-949J7.8 RP11-949J7.8 FAM107A NUDT16 SSR3 FAM53A FAM47E-STBD1 LAMTOR3 LAMTOR3 LAMTOR3 C5orf63 HARS HLA-DQA2 HEBP2 TBXAS1 SLC37A3 CLN8 CLN8 CLN8 CLN8 NCMAP\n"
     ]
    }
   ],
   "source": [
    "\"\"\"\n",
    "Print genes with samples which quantify as > 2.5 in any of the 60 samples\n",
    "\"\"\"\n",
    "filename = open(\"/shared/sudlab1/General/projects/utrons_project/misc_files/Utrons_2.5tpmInSims.txt\", 'w')\n",
    "for gene in range(0, numGenes,1):\n",
    "        txName = utronTpms.ix[gene, 1]\n",
    "        geneTpms = utronTpms.ix[gene, 2:].tolist()\n",
    "        if len([a for a in geneTpms if a <= 2.5]) < 60:\n",
    "            print txName, \n",
    "            txName = txName + \"\\n\"\n",
    "            filename.write(txName)\n",
    "            \n",
    "filename.close()"
   ]
  }
 ],
 "metadata": {
  "kernelspec": {
   "display_name": "Python 2",
   "language": "python",
   "name": "python2"
  },
  "language_info": {
   "codemirror_mode": {
    "name": "ipython",
    "version": 2
   },
   "file_extension": ".py",
   "mimetype": "text/x-python",
   "name": "python",
   "nbconvert_exporter": "python",
   "pygments_lexer": "ipython2",
   "version": "2.7.13"
  }
 },
 "nbformat": 4,
 "nbformat_minor": 2
}
