{
 "cells": [
  {
   "cell_type": "markdown",
   "metadata": {},
   "source": [
    "### Producing novel_utron saturation plots of assembled UTRons from the simulations \n",
    "\n",
    "- Opens databases corresponding to random groupings of samples\n",
    "- (e.g.) (10.1, 10.2, 10.3) are three repeats using 10 random samples\n",
    "\n"
   ]
  },
  {
   "cell_type": "markdown",
   "metadata": {},
   "source": [
    "Function below counts the number of utrons in the dataframe returned from the query.\n",
    "- Database name corresponds to the no. of samples assembled \n",
    "\n",
    "Function accepts a \"num\"\n",
    "- (if num = 1 )   = returns number of transcripts assembled\n",
    "- (if num = 2)    = returns number of genes with assembled utrons"
   ]
  },
  {
   "cell_type": "code",
   "execution_count": 5,
   "metadata": {
    "collapsed": false
   },
   "outputs": [
    {
     "name": "stdout",
     "output_type": "stream",
     "text": [
      "Populating the interactive namespace from numpy and matplotlib\n"
     ]
    },
    {
     "name": "stderr",
     "output_type": "stream",
     "text": [
      "/home/mba13ns/anaconda2/lib/python2.7/site-packages/IPython/core/magics/pylab.py:161: UserWarning: pylab import has clobbered these variables: ['test']\n",
      "`%matplotlib` prevents importing * from pylab and numpy\n",
      "  \"\\n`%matplotlib` prevents importing * from pylab and numpy\"\n"
     ]
    }
   ],
   "source": [
    "import pandas as pd\n",
    "import sqlite3\n",
    "%pylab inline"
   ]
  },
  {
   "cell_type": "code",
   "execution_count": 6,
   "metadata": {
    "collapsed": true
   },
   "outputs": [],
   "source": [
    "def count_utrons(database, num):\n",
    "    cnx = sqlite3.connect(database)\n",
    "    cnx.execute(\"ATTACH '/shared/sudlab1/General/annotations/hg38_noalt_ensembl85/csvdb' as annotations\")\n",
    "    if num == 1:\n",
    "        query_text1 = '''\n",
    "        SELECT * \n",
    "        FROM novel_utrons_ids \n",
    "        WHERE track='agg-agg-agg' AND transcript_id like \"MSTRG%\"\n",
    "        ORDER BY transcript_id'''\n",
    "    if num == 2:\n",
    "        query_text1 = '''\n",
    "        SELECT * \n",
    "        FROM novel_utrons_ids AS uid\n",
    "        INNER JOIN annotations.transcript_info AS ti\n",
    "        ON ti.transcript_id = match_transcript_id\n",
    "        WHERE track='agg-agg-agg' AND uid.transcript_id like \"MSTRG%\"\n",
    "        GROUP BY gene_name\n",
    "        ORDER BY transcript_id\n",
    "        '''\n",
    "    \n",
    "    query1 = pd.read_sql_query(query_text1, cnx)\n",
    "    num = query1.shape[0]\n",
    "    return num"
   ]
  },
  {
   "cell_type": "code",
   "execution_count": 7,
   "metadata": {
    "collapsed": false
   },
   "outputs": [],
   "source": [
    "# Names of the database name to be opened\n",
    "\n",
    "db_list = [\"1.1\", \"1.2\",\"1.3\",\"1.4\",\"1.5\",\"1.6\",\n",
    "           \"10.1\", \"10.2\", \"10.3\",\n",
    "           \"20.1\", \"20.2\", \"20.3\",\n",
    "           \"30.1\", \"30.2\", \"30.3\", \n",
    "           \"40.1\", \"40.2\", \"40.3\",\n",
    "           \"50.1\", \"50.2\", \"50.3\",\n",
    "           \"55.1\", \"55.2\", \"55.3\",\n",
    "           \"60\"]\n",
    "\n",
    "\n",
    "# Number of repeeats in each database (for plotting later)\n",
    "num_samples = [1]*6 + [10]*3 + [20]*3 + [30]*3 + [40]*3 + [50]*3 + [55]*3 + [60]"
   ]
  },
  {
   "cell_type": "code",
   "execution_count": 8,
   "metadata": {
    "collapsed": false
   },
   "outputs": [],
   "source": [
    "# Get utron counts for each database (transcript count)\n",
    "utron_counts =[]\n",
    "for db in db_list:\n",
    "    db_name = \"/shared/sudlab1/General/projects/utrons_project/Simulations/Saturation/\"+db+\".db\"\n",
    "    a=count_utrons(db_name, 1)\n",
    "    utron_counts.append(a)\n",
    "    \n",
    "# Get utron counts for each database (gene count)    \n",
    "utron_counts2 =[]\n",
    "for db in db_list:\n",
    "    db_name = \"/shared/sudlab1/General/projects/utrons_project/Simulations/Saturation/\"+db+\".db\"\n",
    "    a=count_utrons(db_name, 2)\n",
    "    utron_counts2.append(a)"
   ]
  },
  {
   "cell_type": "code",
   "execution_count": 9,
   "metadata": {
    "collapsed": true
   },
   "outputs": [],
   "source": [
    "# Find means for each set of repeats\n",
    "\n",
    "# Transcript means\n",
    "means = []\n",
    "means.append(sum(utron_counts[0:6])/6.0);    means.append(sum(utron_counts[6:9])/3.0)\n",
    "means.append(sum(utron_counts[9:12])/3.0);   means.append(sum(utron_counts[12:15])/3.0);\n",
    "means.append(sum(utron_counts[15:18])/3.0);  means.append(sum(utron_counts[18:21])/3.0)\n",
    "means.append(sum(utron_counts[21:24])/3.0);  means.append(sum(utron_counts[24])/1.0)\n",
    "\n",
    "# Gene level means\n",
    "means2 = []\n",
    "means2.append(sum(utron_counts2[0:6])/6.0);    means2.append(sum(utron_counts2[6:9])/3.0)\n",
    "means2.append(sum(utron_counts2[9:12])/3.0);   means2.append(sum(utron_counts2[12:15])/3.0)\n",
    "means2.append(sum(utron_counts2[15:18])/3.0);  means2.append(sum(utron_counts2[18:21])/3.0)\n",
    "means2.append(sum(utron_counts2[21:24])/3.0);  means2.append(sum(utron_counts2[24])/1.0)\n",
    "\n",
    "#x-axis values for plotting\n",
    "plotlist = [1,10,20,30,40,50,55,60]"
   ]
  },
  {
   "cell_type": "code",
   "execution_count": 18,
   "metadata": {
    "collapsed": false
   },
   "outputs": [
    {
     "data": {
      "image/png": "[encoded data removed]",
      "text/plain": [
       "<matplotlib.figure.Figure at 0x7f1591f81410>"
      ]
     },
     "metadata": {},
     "output_type": "display_data"
    }
   ],
   "source": [
    "# Transcript counts\n",
    "pylab.plot(num_samples, utron_counts, '+', label=\"TRANSCRIPTS\", color='r')\n",
    "\n",
    "# Gene counts\n",
    "pylab.plot(num_samples, utron_counts2, '+', label='GENES', color='b')\n",
    "\n",
    "# Means\n",
    "pylab.plot(plotlist, means, color='r')\n",
    "pylab.plot(plotlist, means2, color='b')\n",
    "\n",
    "\n",
    "pylab.legend(loc=2, fontsize=\"x-small\")\n",
    "pylab.xlabel('Samples'); pylab.ylabel('Novel UTRons')\n",
    "pylab.xlim(0,60)\n",
    "pylab.savefig(\"./images/5_SaturationCurve\", dpi=300)"
   ]
  },
  {
   "cell_type": "raw",
   "metadata": {},
   "source": [
    "for transcripts...\n",
    "The graph seems to almost be levelling off at n=60 (although still on a slight upwards trajectory)\n",
    "\n",
    "\n",
    "for Genes...\n",
    "Graph seems to level off at n=20 to n=30 samples\n",
    "\n",
    "\n",
    "(i.e.) Seem to be picking up additional transcripts but in the same number of genes]\n",
    "- FOund all the possible genes with utrons in?"
   ]
  },
  {
   "cell_type": "code",
   "execution_count": 17,
   "metadata": {
    "collapsed": false
   },
   "outputs": [],
   "source": [
    "####################################\n",
    "# LIST OF GENES WITH UTRONS IN THEM \n",
    "#####################################\n",
    "\n",
    "cnx = sqlite3.connect(\"/shared/sudlab1/General/projects/utrons_project/Simulations/Saturation/55.2.db\")\n",
    "cnx.execute(\"ATTACH '/shared/sudlab1/General/annotations/hg38_noalt_ensembl85/csvdb' as annotations\")\n",
    "\n",
    "query_text1 = '''\n",
    "        SELECT * \n",
    "        FROM novel_utrons_ids AS uid\n",
    "        INNER JOIN annotations.transcript_info AS ti\n",
    "        ON ti.transcript_id = match_transcript_id\n",
    "        WHERE track='agg-agg-agg' AND uid.transcript_id like \"MSTRG%\"\n",
    "        GROUP BY gene_name\n",
    "        ORDER BY transcript_id\n",
    "        '''\n",
    "    \n",
    "query1 = pd.read_sql_query(query_text1, cnx)\n",
    "a = query1[\"gene_name\"].tolist()\n",
    "outfile = open(\"/shared/sudlab1/General/projects/utrons_project/misc_files/systematicUtronGenes.txt\", 'w')\n",
    "for line in sorted(a):\n",
    "    line = line + \"\\n\"\n",
    "    outfile.write(line)\n",
    "outfile.close()"
   ]
  }
 ],
 "metadata": {
  "kernelspec": {
   "display_name": "Python 2",
   "language": "python",
   "name": "python2"
  },
  "language_info": {
   "codemirror_mode": {
    "name": "ipython",
    "version": 2
   },
   "file_extension": ".py",
   "mimetype": "text/x-python",
   "name": "python",
   "nbconvert_exporter": "python",
   "pygments_lexer": "ipython2",
   "version": "2.7.13"
  }
 },
 "nbformat": 4,
 "nbformat_minor": 0
}
