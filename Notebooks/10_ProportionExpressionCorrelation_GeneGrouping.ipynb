{
 "cells": [
  {
   "cell_type": "markdown",
   "metadata": {},
   "source": [
    "### Correlating the proportion of a genes expression which is UTRon transcripts with the expression level of a gene. Results with: Novel UTRons, All UTRons, Random transcripts."
   ]
  },
  {
   "cell_type": "code",
   "execution_count": 2,
   "metadata": {
    "collapsed": false
   },
   "outputs": [],
   "source": [
    "import sqlite3\n",
    "import pandas as pd\n",
    "import numpy as np\n",
    "from scipy.stats.stats import pearsonr\n",
    "from scipy.stats.stats import spearmanr\n",
    "import math\n",
    "import random\n",
    "\n",
    "# ATTACH UTRONS DATABASE\n",
    "cnx = sqlite3.connect('/shared/sudlab1/General/projects/utrons_project/BladderCancerUtrons/431BladderUtrons.db')\n",
    "cnx.execute(\"ATTACH '/shared/sudlab1/General/annotations/hg38_noalt_ensembl85/csvdb' as annotations\")\n",
    "\n",
    "sampleCount = 434"
   ]
  },
  {
   "cell_type": "code",
   "execution_count": 3,
   "metadata": {
    "collapsed": true
   },
   "outputs": [],
   "source": [
    "\"\"\"\n",
    "GETTING PROPORTIONS\n",
    "\"\"\"\n",
    "\n",
    "\"\"\"\n",
    "Function:\n",
    "1 - get TPMs of the Tx Ids passed to the function\n",
    "2 - get proportions of the tpms found in (1)\n",
    "\n",
    "\"\"\"\n",
    "\n",
    "#################################################  \n",
    "# 1 - Get UTRon Tpms\n",
    "#################################################  \n",
    "\n",
    "# Get tpms for UTRons\n",
    "def getTpms(sample, runNum, index, Dataframe):\n",
    "    \n",
    "    # Load file into dataframe\n",
    "    sampleFile = '/shared/sudlab1/General/projects/utrons_project/BladderCancerUtrons/Quantifications/%s_agg-agg-agg.sf' % sample\n",
    "    sampleDf = pd.read_csv(sampleFile, sep='\\t') \n",
    "    \n",
    "    # Copy only Tx ids and TPM values from dataframe\n",
    "    sampleDf = sampleDf[[0,3]].copy() \n",
    "    \n",
    "    # Merge with Utrons DF (get only utron tpms)\n",
    "    sampleDf = pd.merge(Dataframe, sampleDf, right_on=\"Name\", left_on=\"Name\")\n",
    "    \n",
    "    # Make columns named with the sample number\n",
    "    indexname = \"TPM_%d\" % index\n",
    "    sampleDf[indexname] = sampleDf[\"TPM\"]\n",
    "\n",
    "    # If passed with runNum == 1, return tpms AND tx IDs, else return just the tpms\n",
    "    if runNum ==1:\n",
    "        return sampleDf[[\"Name\",\"match_id\", indexname]]\n",
    "    if runNum ==2:\n",
    "        return sampleDf[[indexname]]\n",
    "    \n",
    "        \n",
    "         \n",
    "        \n",
    "#################################################        \n",
    "# 2-  Get TPM totals for each gene in each sample\n",
    "#################################################  \n",
    "\n",
    "# Open each sample individually and get transcript tpms then groupby match_tx_id to get transcript_totals\n",
    "def getGeneTotals(sampleNum, runNum, Dataframe):\n",
    "    \n",
    "    # Make vars with sample names and indexes\n",
    "    sample=\"ZF-WT-%d\" % sampleNum\n",
    "    tpmIndex = \"TPM_%d\" % sampleNum\n",
    "    propIndex = \"PROP_%d\" % sampleNum\n",
    "    \n",
    "    # Load file into dataframe\n",
    "    sampleFile = '/shared/sudlab1/General/projects/utrons_project/BladderCancerUtrons/Quantifications/%s_agg-agg-agg.sf' % sample\n",
    "    sampleDf = pd.read_csv(sampleFile, sep='\\t') \n",
    "    \n",
    "    # Copy only Tx ids and TPM values from dataframe, Merge with transcripts DF and group by ID to get gene sums\n",
    "    sampleDf = sampleDf[[\"Name\",\"TPM\"]]\n",
    "    sampleDf = pd.merge(transcriptIds, sampleDf, right_on=\"Name\", left_on=\"Name\") \n",
    "    sampleDf = sampleDf.groupby(\"match_id\").sum()\n",
    "    \n",
    "    \n",
    "    # Make a copy of the utrons dataframe tpms for the sample and merge utrons and sample dataframes\n",
    "    utronTpms = Dataframe[[\"Name\",\"match_id\",tpmIndex]].copy()  \n",
    "    utronTpms = pd.merge(utronTpms, sampleDf, right_index=True, left_on=\"match_id\") \n",
    "    \n",
    "    # get proportion for each transcript\n",
    "    utronTpms[propIndex] = utronTpms[tpmIndex] / utronTpms[\"TPM\"] \n",
    "    \n",
    "    \n",
    "    # Return dataframe\n",
    "    if runNum == 1:\n",
    "        return utronTpms[[\"Name\", \"match_id\", propIndex]]\n",
    "    if runNum ==2:\n",
    "        return utronTpms[[propIndex]]"
   ]
  },
  {
   "cell_type": "code",
   "execution_count": 4,
   "metadata": {
    "collapsed": false
   },
   "outputs": [],
   "source": [
    "\"\"\"\n",
    "SQL QUERIES TO GET TRANSCRIPT IDS TO BE USED LATER\n",
    "\"\"\"\n",
    "\n",
    "#########################################################\n",
    "# Dataframe of all transcript IDs \n",
    "query_text1 = '''\n",
    "    SELECT tc.match_gene_id AS match_id, tc.transcript_id AS Name\n",
    "    FROM transcript_class AS tc\n",
    "    WHERE tc.track=\"agg-agg-agg\"\n",
    "    ORDER BY match_transcript_id\n",
    "    '''\n",
    "transcriptIds = pd.read_sql_query(query_text1, cnx)\n",
    "\n",
    "\n",
    "\n",
    "#########################################################\n",
    "# Dataframe of novel UTRons IDs and matched transcript IDs\n",
    "query_text1 = '''\n",
    "    SELECT uid.transcript_id AS Name, tc.match_gene_id AS match_id\n",
    "    FROM novel_utrons_ids AS uid\n",
    "    INNER JOIN transcript_class AS tc\n",
    "    ON tc.transcript_id = uid.transcript_id\n",
    "    INNER JOIN annotations.transcript_info AS ti\n",
    "    ON ti.transcript_id = tc.match_transcript_id\n",
    "    WHERE uid.track='agg-agg-agg'\n",
    "    GROUP BY uid.transcript_id\n",
    "    '''\n",
    "novelUtronsDf = pd.read_sql_query(query_text1, cnx)\n",
    "\n",
    "\n",
    "#########################################################\n",
    "# Dataframe of all UTRon IDs and matched transcript IDs\n",
    "query_text1 = '''\n",
    "    SELECT uid.transcript_id AS Name, tc.match_gene_id AS match_id\n",
    "    FROM all_utrons_ids AS uid\n",
    "    INNER JOIN transcript_class AS tc\n",
    "    ON tc.transcript_id = uid.transcript_id\n",
    "    INNER JOIN annotations.transcript_info AS ti\n",
    "    ON ti.transcript_id = tc.match_transcript_id\n",
    "    WHERE uid.track='agg-agg-agg'\n",
    "    GROUP BY uid.transcript_id\n",
    "    '''\n",
    "allUtronsDf = pd.read_sql_query(query_text1, cnx)\n"
   ]
  },
  {
   "cell_type": "code",
   "execution_count": 5,
   "metadata": {
    "collapsed": false
   },
   "outputs": [],
   "source": [
    "\"\"\"\n",
    "GETTING NOVEL UTRON TPMS AND PROPORTIONS USING THE ABOVE FUNCTIONS\n",
    "\"\"\"\n",
    "\n",
    "\n",
    "# Loop through samples and get tpms\n",
    "novelUtronTpms = getTpms(\"ZF-WT-1\", 1, 1, novelUtronsDf)\n",
    "for num in range(2,sampleCount,1):\n",
    "    if num != 252 and num != 347:\n",
    "        sample = \"ZF-WT-%d\" % num\n",
    "        sampleTpms = getTpms(sample, 2, num, novelUtronsDf)\n",
    "        novelUtronTpms = pd.concat([novelUtronTpms, sampleTpms], axis=1)\n",
    "\n",
    "        \n",
    "\n",
    "# Loop through samples and get proportions  \n",
    "novelUtronProportions = getGeneTotals(1, 1, novelUtronTpms)\n",
    "for num in range(2,sampleCount,1):\n",
    "    if num != 252 and num != 347:\n",
    "        sampleProportions = getGeneTotals(num, 2, novelUtronTpms)\n",
    "        novelUtronProportions = pd.concat([novelUtronProportions, sampleProportions], axis=1)\n"
   ]
  },
  {
   "cell_type": "code",
   "execution_count": 6,
   "metadata": {
    "collapsed": false
   },
   "outputs": [],
   "source": [
    "\"\"\"\n",
    "GETTING ALL UTRON TPMS AND PROPORTIONS USING THE ABOVE FUNCTIONS\n",
    "\"\"\"\n",
    "\n",
    "\n",
    "# Loop through samples and get tpms\n",
    "allUtronTpms = getTpms(\"ZF-WT-1\", 1, 1, allUtronsDf)\n",
    "for num in range(2,sampleCount,1):\n",
    "    if num != 252 and num != 347:\n",
    "        sample = \"ZF-WT-%d\" % num\n",
    "        sampleTpms = getTpms(sample, 2, num, allUtronsDf)\n",
    "        allUtronTpms = pd.concat([allUtronTpms, sampleTpms], axis=1)\n",
    "\n",
    "        \n",
    "\n",
    "# Loop through samples and get proportions  \n",
    "allUtronProportions = getGeneTotals(1, 1, allUtronTpms)\n",
    "for num in range(2,sampleCount,1):\n",
    "    if num != 252 and num != 347:\n",
    "        sampleProportions = getGeneTotals(num, 2, allUtronTpms)\n",
    "        allUtronProportions = pd.concat([allUtronProportions, sampleProportions], axis=1)"
   ]
  },
  {
   "cell_type": "code",
   "execution_count": 7,
   "metadata": {
    "collapsed": true
   },
   "outputs": [],
   "source": [
    "\"\"\"\n",
    "PICK A SET OF RANDOM TXS AND GET PROPORTIONS FOR THEM\n",
    "\"\"\"\n",
    "\n",
    "# Remove null values (cant find proportions for these genes)\n",
    "transcriptIds = transcriptIds[transcriptIds[\"match_id\"].notnull()] \n",
    "\n",
    "\n",
    "# pick a set of random numbers and add the corresponding genes to a db - randomtxs\n",
    "indexvals = transcriptIds.index.tolist()\n",
    "numTxs = 33673\n",
    "randlist = []\n",
    "picked = []\n",
    "\n",
    "\n",
    "# Pick random set of numbers and add to list\n",
    "while len(randlist) < numTxs:\n",
    "    randomnum = random.randint(0,len(indexvals)-1)\n",
    "    if randomnum not in randlist:\n",
    "        randlist.append(randomnum)\n",
    "\n",
    "# Pick the numbers generated from above\n",
    "for num in randlist:\n",
    "    picked.append(indexvals[num])\n",
    "\n",
    "    \n",
    "# Select transcripts corresponding to random numbers\n",
    "randomTxs = transcriptIds.filter(picked, axis=0)\n",
    "\n",
    "\n",
    "# Loop through samples and get tpms\n",
    "randomTpms = getTpms(\"ZF-WT-1\", 1, 1, randomTxs)\n",
    "for num in range(2,sampleCount,1):\n",
    "    if num != 252 and num != 347:\n",
    "        sample = \"ZF-WT-%d\" % num\n",
    "        sampleTpms = getTpms(sample, 2, num, randomTxs)\n",
    "        randomTpms = pd.concat([randomTpms, sampleTpms], axis=1)\n",
    "\n",
    "        \n",
    "\n",
    "# Loop through samples and get proportions  \n",
    "randomProportions = getGeneTotals(1, 1, randomTpms)\n",
    "for num in range(2,sampleCount,1):\n",
    "    if num != 252 and num != 347:\n",
    "        sampleProportions = getGeneTotals(num, 2, randomTpms)\n",
    "        randomProportions = pd.concat([randomProportions, sampleProportions], axis=1)"
   ]
  },
  {
   "cell_type": "markdown",
   "metadata": {},
   "source": [
    "#### Have TPMs and proportions for each gene, now need to find the correlations\n",
    "- Using scipy pearsonr"
   ]
  },
  {
   "cell_type": "code",
   "execution_count": 81,
   "metadata": {
    "collapsed": false
   },
   "outputs": [],
   "source": [
    "\"\"\"\n",
    "FUNCTION TO GET CORRELATIONS\n",
    "- Takes 2 dataframes - proportions and tpms\n",
    "- Return pearson correlation as a list\n",
    "\"\"\"\n",
    "\n",
    "# Set Filter (needs x tpm in atleast x samples to meet filter)\n",
    "tpmThreshold = 5\n",
    "sampleThreshold1 = 10\n",
    "sampleThreshold2 = 100\n",
    "\n",
    "def getCorrelations(proportionDf, tpmDf):\n",
    "    a = proportionDf.sort(\"Name\")\n",
    "    b = tpmDf.sort(\"Name\")\n",
    "    \n",
    "    numTranscripts = len(a)\n",
    "    transcriptRange = range(0, numTranscripts-1, 1)\n",
    "    indexVals = a.index\n",
    "    \n",
    "    Correlations = []\n",
    "    #for num in transcriptRange:\n",
    "    for num in indexVals:\n",
    "        proportions = a.ix[num,2:].tolist()\n",
    "        tpms = b.ix[num,2:].tolist()\n",
    "        \n",
    "        stackedValues = np.column_stack([tpms, proportions])\n",
    "        stackedValues = stackedValues[stackedValues[:,0] > tpmThreshold]\n",
    "        \n",
    "        if len(stackedValues) > sampleThreshold1 and len(stackedValues) < sampleThreshold2:\n",
    "            correlation = pearsonr(stackedValues[:,1], stackedValues[:,0])\n",
    "            Correlations.append(correlation[0])\n",
    "            \n",
    "    return Correlations"
   ]
  },
  {
   "cell_type": "code",
   "execution_count": 85,
   "metadata": {
    "collapsed": false
   },
   "outputs": [
    {
     "name": "stderr",
     "output_type": "stream",
     "text": [
      "/home/mba13ns/anaconda2/lib/python2.7/site-packages/ipykernel/__main__.py:13: FutureWarning: sort(columns=....) is deprecated, use sort_values(by=.....)\n",
      "/home/mba13ns/anaconda2/lib/python2.7/site-packages/ipykernel/__main__.py:14: FutureWarning: sort(columns=....) is deprecated, use sort_values(by=.....)\n"
     ]
    }
   ],
   "source": [
    "novelUtronCorrelations = getCorrelations(novelUtronProportions, novelUtronTpms)\n",
    "allUtronCorrelations = getCorrelations(allUtronProportions, allUtronTpms)\n",
    "RandomCorrelations = getCorrelations(randomProportions, randomTpms)"
   ]
  },
  {
   "cell_type": "code",
   "execution_count": 89,
   "metadata": {
    "collapsed": false
   },
   "outputs": [
    {
     "name": "stdout",
     "output_type": "stream",
     "text": [
      "Populating the interactive namespace from numpy and matplotlib\n"
     ]
    },
    {
     "data": {
      "image/png": "[encoded data removed]",
      "text/plain": [
       "<matplotlib.figure.Figure at 0x7f61ece614d0>"
      ]
     },
     "metadata": {},
     "output_type": "display_data"
    }
   ],
   "source": [
    "%pylab inline\n",
    "pylab.hist(novelUtronCorrelations, bins=30, range=(-1,1), edgecolor=\"black\", normed=True, label=\"novel UTRons\", color=\"red\")\n",
    "pylab.hist(allUtronCorrelations, bins=30, range=(-1,1), edgecolor=\"black\", normed=True,  label=\"known UTRons\", color=\"blue\", alpha=0.5,)\n",
    "pylab.legend()\n",
    "pylab.savefig(\"./images/10_FINALnovelVsKnown\", dpi=300)"
   ]
  },
  {
   "cell_type": "code",
   "execution_count": 90,
   "metadata": {
    "collapsed": false
   },
   "outputs": [
    {
     "name": "stdout",
     "output_type": "stream",
     "text": [
      "Populating the interactive namespace from numpy and matplotlib\n"
     ]
    },
    {
     "data": {
      "image/png": "[encoded data removed]",
      "text/plain": [
       "<matplotlib.figure.Figure at 0x7f61ef5d6850>"
      ]
     },
     "metadata": {},
     "output_type": "display_data"
    }
   ],
   "source": [
    "%pylab inline\n",
    "pylab.hist(RandomCorrelations, bins=30, range=(-1,1), edgecolor=\"black\", normed=True, label=\"Random Transcripts\", color=\"red\")\n",
    "pylab.hist(allUtronCorrelations, bins=30, range=(-1,1), edgecolor=\"black\", normed=True,  label=\"known UTRons\", color=\"blue\", alpha=0.5,)\n",
    "pylab.legend()\n",
    "pylab.savefig(\"./images/10_FINALknownVsRand\", dpi=300)"
   ]
  },
  {
   "cell_type": "code",
   "execution_count": 91,
   "metadata": {
    "collapsed": false
   },
   "outputs": [
    {
     "name": "stdout",
     "output_type": "stream",
     "text": [
      "Populating the interactive namespace from numpy and matplotlib\n"
     ]
    },
    {
     "data": {
      "image/png": "[encoded data removed]",
      "text/plain": [
       "<matplotlib.figure.Figure at 0x7f61eeca4a50>"
      ]
     },
     "metadata": {},
     "output_type": "display_data"
    }
   ],
   "source": [
    "%pylab inline\n",
    "pylab.hist(RandomCorrelations, bins=30, range=(-1,1), edgecolor=\"black\", normed=True, label=\"Random Transcripts\", color=\"red\")\n",
    "pylab.hist(novelUtronCorrelations, bins=30, range=(-1,1), edgecolor=\"black\", normed=True,  label=\"novel UTRons\", color=\"blue\", alpha=0.5,)\n",
    "pylab.legend()\n",
    "pylab.savefig(\"./images/10_FINALnovelVsRand\", dpi=300)"
   ]
  },
  {
   "cell_type": "code",
   "execution_count": 186,
   "metadata": {
    "collapsed": false
   },
   "outputs": [
    {
     "name": "stderr",
     "output_type": "stream",
     "text": [
      "/home/mba13ns/anaconda2/lib/python2.7/site-packages/ipykernel/__main__.py:13: FutureWarning: sort(columns=....) is deprecated, use sort_values(by=.....)\n",
      "/home/mba13ns/anaconda2/lib/python2.7/site-packages/ipykernel/__main__.py:14: FutureWarning: sort(columns=....) is deprecated, use sort_values(by=.....)\n"
     ]
    },
    {
     "data": {
      "image/png": "[encoded data removed]",
      "text/plain": [
       "<matplotlib.figure.Figure at 0x7f61e10c45d0>"
      ]
     },
     "metadata": {},
     "output_type": "display_data"
    }
   ],
   "source": [
    "\"\"\"\n",
    "Plotting novel UTRons correlations based on UTRon length\n",
    "\"\"\"\n",
    "Length = 200\n",
    "lengthsFile = \"/shared/sudlab1/General/projects/utrons_project/misc_files/SpliceSite/novelLengths.txt\"\n",
    "lengthsInfo = pd.read_csv(lengthsFile, \"\\t\")\n",
    "shortIds = lengthsInfo[lengthsInfo[\"Length\"]<=Length][\"transcript_id\"]\n",
    "\n",
    "shortUtronTpms = novelUtronTpms[novelUtronTpms[\"Name\"].isin(shortIds)]\n",
    "shortUtronProportions = novelUtronProportions[novelUtronProportions[\"Name\"].isin(shortIds)]\n",
    "\n",
    "longUtronTpms = novelUtronTpms[~novelUtronTpms[\"Name\"].isin(shortIds)]\n",
    "longUtronProportions = novelUtronProportions[~novelUtronProportions[\"Name\"].isin(shortIds)]\n",
    "\n",
    "shortUtronCorrelations = getCorrelations(shortUtronProportions, shortUtronTpms)\n",
    "longUtronCorrelations = getCorrelations(longUtronProportions, longUtronTpms)\n",
    "\n",
    "\n",
    "pylab.hist(shortUtronCorrelations, bins=20, range=(-1,1), edgecolor=\"black\", normed=True, color=\"blue\", label=\"<200 bp\")\n",
    "pylab.hist(longUtronCorrelations, bins=20, range=(-1,1), edgecolor=\"black\", normed=True, color=\"red\", alpha=0.8,label=\">200 bp\")\n",
    "pylab.legend()\n",
    "pylab.savefig(\"10_FINALlengthSplit\", dpi=300)\n",
    "\n"
   ]
  },
  {
   "cell_type": "code",
   "execution_count": 41,
   "metadata": {
    "collapsed": true
   },
   "outputs": [],
   "source": [
    "\"\"\"\n",
    "Plotting correlation of novel Utrons based on splice site type\n",
    "\"\"\"\n",
    "\n",
    "# File of novel utrons with non-canonical splice sites\n",
    "badsplicefile = \"/shared/sudlab1/General/projects/utrons_project/misc_files/SpliceSite/novelUtrons_unknown_100000bp.txt\"\n",
    "badspliceUtrons = pd.read_csv(badsplicefile, header=None, sep=\"\\t\", index_col=0)[1].tolist()\n",
    "\n",
    "\n",
    "\"\"\"\n",
    "Function returns the splice site status (1) = known, (0) = unknown\n",
    "\"\"\"    \n",
    "def spliceStatus(row):\n",
    "    tx = row[\"Name\"]\n",
    "    if tx in badspliceUtrons:\n",
    "        return 0\n",
    "    else:\n",
    "        return 1\n",
    "    \n",
    "    \n",
    "novelTpms = novelUtronTpms\n",
    "novelProps = novelUtronProportions\n",
    "novelTpms[\"Splice\"] = novelTpms.apply(spliceStatus, axis=1)\n",
    "novelProps[\"Splice\"] = novelProps.apply(spliceStatus, axis=1)\n",
    "\n",
    "\n",
    "knownSpliceTpms = novelTpms[novelTpms[\"Splice\"]==1]\n",
    "unknownSpliceTpms = novelTpms[novelTpms[\"Splice\"]==0]\n",
    "knownSpliceProps = novelProps[novelProps[\"Splice\"]==1]\n",
    "unknownSpliceProps = novelProps[novelProps[\"Splice\"]==0]"
   ]
  },
  {
   "cell_type": "code",
   "execution_count": 93,
   "metadata": {
    "collapsed": false
   },
   "outputs": [
    {
     "name": "stderr",
     "output_type": "stream",
     "text": [
      "/home/mba13ns/anaconda2/lib/python2.7/site-packages/ipykernel/__main__.py:13: FutureWarning: sort(columns=....) is deprecated, use sort_values(by=.....)\n",
      "/home/mba13ns/anaconda2/lib/python2.7/site-packages/ipykernel/__main__.py:14: FutureWarning: sort(columns=....) is deprecated, use sort_values(by=.....)\n"
     ]
    },
    {
     "data": {
      "image/png": "[encoded data removed]",
      "text/plain": [
       "<matplotlib.figure.Figure at 0x7f61eee03050>"
      ]
     },
     "metadata": {},
     "output_type": "display_data"
    }
   ],
   "source": [
    "knownSpliceCorrelations = getCorrelations(knownSpliceProps, knownSpliceTpms)\n",
    "unknownSpliceCorrelations = getCorrelations(unknownSpliceProps, unknownSpliceTpms)\n",
    "\n",
    "pylab.hist(knownSpliceCorrelations, bins=30, range=(-1,1), edgecolor=\"black\", normed=True, color=\"blue\", label=\"known splice site\")\n",
    "pylab.hist(unknownSpliceCorrelations, bins=30, range=(-1,1), edgecolor=\"black\", normed=True, color=\"red\", alpha=0.8, label=\"unknown splice site\")\n",
    "\n",
    "pylab.legend()\n",
    "pylab.savefig(\"./images/10_FINALknownSpliceVsUnknown_10-100_5tpm\")\n"
   ]
  },
  {
   "cell_type": "code",
   "execution_count": 94,
   "metadata": {
    "collapsed": false
   },
   "outputs": [
    {
     "name": "stderr",
     "output_type": "stream",
     "text": [
      "/home/mba13ns/anaconda2/lib/python2.7/site-packages/ipykernel/__main__.py:13: FutureWarning: sort(columns=....) is deprecated, use sort_values(by=.....)\n",
      "/home/mba13ns/anaconda2/lib/python2.7/site-packages/ipykernel/__main__.py:14: FutureWarning: sort(columns=....) is deprecated, use sort_values(by=.....)\n"
     ]
    }
   ],
   "source": [
    "shortUnknownUtronTpms = unknownSpliceTpms[unknownSpliceTpms[\"Name\"].isin(shortIds)]\n",
    "shortUnknownUtronProps = unknownSpliceProps[unknownSpliceProps[\"Name\"].isin(shortIds)]\n",
    "longKnownUtronTpms = knownSpliceTpms[~knownSpliceTpms[\"Name\"].isin(shortIds)]\n",
    "longKnownUtronProps = knownSpliceProps[~knownSpliceProps[\"Name\"].isin(shortIds)]\n",
    "\n",
    "\n",
    "longKnownSpliceCorrelations = getCorrelations(longKnownUtronProps, longKnownUtronTpms)\n",
    "shortUnknownSpliceCorrelations = getCorrelations(shortUnknownUtronProps, shortUnknownUtronTpms)"
   ]
  },
  {
   "cell_type": "code",
   "execution_count": 96,
   "metadata": {
    "collapsed": false
   },
   "outputs": [
    {
     "data": {
      "image/png": "[encoded data removed]",
      "text/plain": [
       "<matplotlib.figure.Figure at 0x7f61f1f64fd0>"
      ]
     },
     "metadata": {},
     "output_type": "display_data"
    }
   ],
   "source": [
    "pylab.hist(longKnownSpliceCorrelations, bins=30, range=(-1,1), edgecolor=\"black\", normed=True, color=\"blue\", label=\">200bp and Known Splice Site\")\n",
    "pylab.hist(shortUnknownSpliceCorrelations, bins=30, range=(-1,1), edgecolor=\"black\", normed=True, color=\"red\", alpha=0.8,  label=\"<200bp and Unknown Splice Site\")\n",
    "pylab.legend(fontsize=\"small\")\n",
    "pylab.savefig(\"./images/10_filteredSpliceLength\", dpi=300)"
   ]
  },
  {
   "cell_type": "code",
   "execution_count": 178,
   "metadata": {
    "collapsed": false
   },
   "outputs": [
    {
     "name": "stderr",
     "output_type": "stream",
     "text": [
      "/home/mba13ns/anaconda2/lib/python2.7/site-packages/ipykernel/__main__.py:13: FutureWarning: sort(columns=....) is deprecated, use sort_values(by=.....)\n",
      "/home/mba13ns/anaconda2/lib/python2.7/site-packages/ipykernel/__main__.py:14: FutureWarning: sort(columns=....) is deprecated, use sort_values(by=.....)\n"
     ]
    }
   ],
   "source": [
    "\"\"\"\n",
    "Plotting based on suppressors vs oncogenes\n",
    "\"\"\"\n",
    "\n",
    "# File with cancer genes\n",
    "TPM = 20\n",
    "oncoFile = \"/shared/sudlab1/General/projects/utrons_project/misc_files/cancerUtrons/oncogenes_%dTPM.txt\" % TPM\n",
    "suppFile = \"/shared/sudlab1/General/projects/utrons_project/misc_files/cancerUtrons/suppresor_%dTPM.txt\" % TPM\n",
    "unknFile = \"/shared/sudlab1/General/projects/utrons_project/misc_files/cancerUtrons/unknown_%dTPM.txt\" % TPM\n",
    "\n",
    "oncoDf = pd.read_csv(oncoFile, sep=\"\\t\", header=None)\n",
    "suppDf = pd.read_csv(suppFile, sep=\"\\t\", header=None)\n",
    "unknDf = pd.read_csv(unknFile, sep=\"\\t\", header=None)\n",
    "\n",
    "oncoTpms = allUtronTpms[allUtronTpms[\"Name\"].isin(oncoDf[0])]\n",
    "oncoProps = allUtronProportions[allUtronProportions[\"Name\"].isin(oncoDf[0])]\n",
    "\n",
    "suppTpms = allUtronTpms[allUtronTpms[\"Name\"].isin(suppDf[0])]\n",
    "suppProps = allUtronProportions[allUtronProportions[\"Name\"].isin(suppDf[0])]\n",
    "\n",
    "unknTpms = allUtronTpms[allUtronTpms[\"Name\"].isin(unknDf[0])]\n",
    "unknProps = allUtronProportions[allUtronProportions[\"Name\"].isin(unknDf[0])]\n",
    "\n",
    "\n",
    "oncoCorrelations = getCorrelations(oncoProps, oncoTpms)\n",
    "unknCorrelations = getCorrelations(unknProps, unknTpms)\n",
    "suppCorrelations = getCorrelations(suppProps,suppTpms)"
   ]
  },
  {
   "cell_type": "code",
   "execution_count": 179,
   "metadata": {
    "collapsed": false
   },
   "outputs": [
    {
     "data": {
      "image/png": "[encoded data removed]",
      "text/plain": [
       "<matplotlib.figure.Figure at 0x7f61f06028d0>"
      ]
     },
     "metadata": {},
     "output_type": "display_data"
    }
   ],
   "source": [
    "pylab.hist(oncoCorrelations, bins=25, range=(-1,1), edgecolor=\"black\", normed=True, color=\"red\")\n",
    "pylab.hist(suppCorrelations, bins=25, range=(-1,1), edgecolor=\"black\", normed=True, color=\"blue\", alpha=0.5,)\n",
    "pylab.legend()"
   ]
  }
 ],
 "metadata": {
  "kernelspec": {
   "display_name": "Python 2",
   "language": "python",
   "name": "python2"
  },
  "language_info": {
   "codemirror_mode": {
    "name": "ipython",
    "version": 2
   },
   "file_extension": ".py",
   "mimetype": "text/x-python",
   "name": "python",
   "nbconvert_exporter": "python",
   "pygments_lexer": "ipython2",
   "version": "2.7.13"
  }
 },
 "nbformat": 4,
 "nbformat_minor": 2
}
