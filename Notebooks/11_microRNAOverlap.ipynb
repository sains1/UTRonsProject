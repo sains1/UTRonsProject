{
 "cells": [
  {
   "cell_type": "markdown",
   "metadata": {},
   "source": [
    "### Finding the overlap between novel UTRons and microRNA sites predicted from TargetScan"
   ]
  },
  {
   "cell_type": "markdown",
   "metadata": {},
   "source": [
    "Statement to find overlap: \n",
    "\n",
    "bedtools intersect \n",
    "    -c\n",
    "    -a novel_utrons.bed\n",
    "    -b TS_predictions_hg38_liftover.bed\n",
    "    > overlap.txt\n",
    "    \n",
    "File in misc_files microRNAoverlap.txt has the number of overlaps with microRNAs for these genes\n",
    "   (done for both novel and known)"
   ]
  },
  {
   "cell_type": "code",
   "execution_count": 41,
   "metadata": {
    "collapsed": false
   },
   "outputs": [],
   "source": [
    "import pandas as pd\n",
    "import sqlite3\n",
    "import pandas as pd\n",
    "import numpy as np\n",
    "\n",
    "cnx = sqlite3.connect('/shared/sudlab1/General/projects/utrons_project/BladderCancerUtrons/431BladderUtrons.db')\n",
    "cnx.execute(\"ATTACH '/shared/sudlab1/General/annotations/hg38_noalt_ensembl85/csvdb' as annotations\")\n",
    "\n",
    "systematicUtrons = \"/shared/sudlab1/General/projects/utrons_project/misc_files/systematicUtronGenes.txt\"\n",
    "systematicUtrons = pd.read_csv(systematicUtrons, sep=\"\\t\", header=None)"
   ]
  },
  {
   "cell_type": "code",
   "execution_count": 33,
   "metadata": {
    "collapsed": false
   },
   "outputs": [],
   "source": [
    "novelOverlapFile = \"/shared/sudlab1/General/projects/utrons_project/misc_files/microRNAOverlap.txt\"\n",
    "allOverlapFile = \"/shared/sudlab1/General/projects/utrons_project/misc_files/allUtronsMicroRnaOverlap.txt\"\n",
    "\n",
    "novelOverlap = pd.read_csv(novelOverlapFile, sep=\" |\\t\", engine=\"python\", header=None)\n",
    "allOverlap = pd.read_csv(allOverlapFile, sep=\" |\\t\", engine=\"python\", header=None)\n",
    "\n",
    "def getId(row):\n",
    "    Id = row[3][:-16]\n",
    "    return Id\n",
    "\n",
    "novelOverlap[\"GeneId\"] = novelOverlap.apply(getId, axis=1)\n",
    "allOverlap[\"GeneId\"] = allOverlap[3]\n",
    "\n",
    "novelOverlap = novelOverlap[[\"GeneId\", 7]]\n",
    "allOverlap = allOverlap[[\"GeneId\", 12]]"
   ]
  },
  {
   "cell_type": "code",
   "execution_count": 43,
   "metadata": {
    "collapsed": false
   },
   "outputs": [],
   "source": [
    "query_text1 = '''\n",
    "    SELECT uid.transcript_id AS Name, ti.gene_name AS Gene\n",
    "    FROM novel_utrons_ids AS uid\n",
    "    INNER JOIN annotations.transcript_info AS ti\n",
    "    ON ti.transcript_id = uid.match_transcript_id\n",
    "    WHERE uid.track='agg-agg-agg' AND uid.transcript_id like \"MSTRG%\"\n",
    "    ORDER BY uid.transcript_id\n",
    "    '''\n",
    "novelIds = pd.read_sql_query(query_text1, cnx)\n",
    "novelIds = novelIds[~novelIds[\"Gene\"].isin(systematicUtrons[0])]\n",
    "\n",
    "\n",
    "query_text1 = '''\n",
    "    SELECT uid.transcript_id AS Name, ti.gene_name AS Gene\n",
    "    FROM all_utrons_ids AS uid\n",
    "    INNER JOIN transcript_class AS tc\n",
    "    ON tc.transcript_id = uid.transcript_id\n",
    "    INNER JOIN annotations.transcript_info AS ti\n",
    "    ON ti.transcript_id = tc.match_transcript_id \n",
    "    WHERE uid.track='agg-agg-agg' AND uid.transcript_id like \"ENS%\"\n",
    "    ORDER BY uid.transcript_id\n",
    "    '''\n",
    "knownIds = pd.read_sql_query(query_text1, cnx)\n",
    "knownIds = knownIds[~knownIds[\"Gene\"].isin(systematicUtrons[0])]"
   ]
  },
  {
   "cell_type": "code",
   "execution_count": 56,
   "metadata": {
    "collapsed": false
   },
   "outputs": [
    {
     "name": "stdout",
     "output_type": "stream",
     "text": [
      "424 3068\n",
      "1199 26449\n"
     ]
    }
   ],
   "source": [
    "novelOverlap = novelOverlap[novelOverlap[\"GeneId\"].isin(novelIds[\"Name\"])]\n",
    "allOverlap = allOverlap[allOverlap[\"GeneId\"].isin(knownIds[\"Name\"])]\n",
    "\n",
    "\n",
    "print len(novelOverlap[novelOverlap[7]>0]), len(novelOverlap[novelOverlap[7]==0])\n",
    "print len(allOverlap[allOverlap[12]>0]), len(allOverlap[allOverlap[12]==0])"
   ]
  },
  {
   "cell_type": "code",
   "execution_count": 166,
   "metadata": {
    "collapsed": false,
    "scrolled": true
   },
   "outputs": [
    {
     "name": "stdout",
     "output_type": "stream",
     "text": [
      "Populating the interactive namespace from numpy and matplotlib\n"
     ]
    },
    {
     "data": {
      "image/png": "[encoded data removed]",
      "text/plain": [
       "<matplotlib.figure.Figure at 0x7f3f11e61b10>"
      ]
     },
     "metadata": {},
     "output_type": "display_data"
    }
   ],
   "source": [
    "lengthInfo = pd.read_csv(\"/shared/sudlab1/General/projects/utrons_project/misc_files/SpliceSite/novelLengths.txt\", sep=\"\\t\")\n",
    "\n",
    "def getPercents(length):\n",
    "    shortIds = lengthInfo[lengthInfo[\"Length\"]<=length][\"transcript_id\"]\n",
    "\n",
    "    shortNovel = novelOverlap[novelOverlap[\"GeneId\"].isin(shortIds)]\n",
    "    longNovel = novelOverlap[~novelOverlap[\"GeneId\"].isin(shortIds)]\n",
    "\n",
    "    shortWith = len(shortNovel[shortNovel[7]>0])\n",
    "    shortNone = len(shortNovel[shortNovel[7]==0])\n",
    "    longWith = len(longNovel[longNovel[7]>0])\n",
    "    longNone = len(longNovel[longNovel[7]==0])\n",
    "    \n",
    "    percent1 = shortWith / float(shortWith + shortNone)\n",
    "    percent2 = longWith / float(longWith + longNone)\n",
    "    \n",
    "    #print percent1 * 100, (1 - percent1) * 100\n",
    "    #print percent2 * 100, (1 - percent2) * 100\n",
    "    \n",
    "    return percent1, percent2\n",
    "    \n",
    "\n",
    "%pylab inline\n",
    "\n",
    "shortList = []\n",
    "longList = []\n",
    "lengthList = []\n",
    "for num in range(25,2000,10):\n",
    "    a, b = getPercents(num)\n",
    "    shortList.append(a)\n",
    "    longList.append(b)\n",
    "    lengthList.append(num)\n",
    "\n",
    "pylab.plot(lengthList, longList)\n",
    "pylab.ylim(0,0.15)\n",
    "pylab.xlabel(\"Length\")\n",
    "pylab.ylabel(\"Proportion\")\n",
    "pylab.savefig(\"./images/LengthVsMicroRNA\", dpi=300)\n"
   ]
  },
  {
   "cell_type": "code",
   "execution_count": 108,
   "metadata": {
    "collapsed": false
   },
   "outputs": [
    {
     "name": "stdout",
     "output_type": "stream",
     "text": [
      "[0.12158808933002481, 0.12386156648451731, 0.13311421528348397, 0.13479052823315119, 0.13636363636363635, 0.1312240663900415, 0.13743815283122596, 0.13908450704225353, 0.14081885856079404, 0.14018087855297157, 0.1415282392026578, 0.1412894375857339, 0.14285714285714285, 0.14296134208606856, 0.14157303370786517, 0.1426403641881639, 0.14340786430223593, 0.1410756040530008, 0.1422924901185771, 0.14170692431561996, 0.14193025141930252, 0.14133986928104575, 0.14262159934047816, 0.14250207125103562, 0.14309623430962343, 0.14370748299319727, 0.14432989690721648, 0.14507772020725387, 0.14298169136878813, 0.1436077057793345, 0.14386584289496912, 0.14658273381294964, 0.14660633484162897, 0.1468721668177697, 0.1479779411764706, 0.14838709677419354, 0.1467038068709378, 0.14684014869888476, 0.1455223880597015, 0.1455223880597015, 0.14553990610328638, 0.14366729678638943, 0.14312796208530806, 0.14435946462715105, 0.1424446583253128, 0.13627450980392156, 0.13681102362204725, 0.13663366336633664, 0.13690476190476192, 0.13755020080321284, 0.13420787083753785, 0.13149847094801223, 0.12833675564681724, 0.12980269989615784, 0.12839248434237996, 0.12866108786610878, 0.12906610703043023, 0.12842105263157894, 0.1285563751317176, 0.12882787750791974, 0.12937433722163308, 0.1276595744680851, 0.12740899357601712, 0.12701829924650163, 0.12701829924650163, 0.1271551724137931, 0.12742980561555076, 0.12689804772234273, 0.12663755458515283, 0.12806236080178174, 0.1282051282051282, 0.12598425196850394, 0.12641083521444696, 0.12655367231638417, 0.12669683257918551, 0.12300683371298406, 0.11507479861910241, 0.11600928074245939, 0.11529411764705882, 0.1154299175500589, 0.11556603773584906, 0.11575178997613365, 0.11589008363201912, 0.11473429951690821, 0.11515151515151516, 0.1120584652862363, 0.11233211233211234, 0.11274509803921569, 0.11288343558282209, 0.11288343558282209, 0.11372064276885044, 0.11400247831474597, 0.1141439205955335, 0.115, 0.115, 0.11586901763224182, 0.11586901763224182, 0.11504424778761062, 0.11518987341772152, 0.11518987341772152, 0.11518987341772152, 0.11518987341772152, 0.11533586818757921, 0.11421319796954314, 0.11464968152866242, 0.11508951406649616, 0.11553273427471117, 0.11673151750972763, 0.11780104712041885, 0.11795543905635648, 0.11330698287220026, 0.11345646437994723, 0.11273209549071618, 0.11303191489361702, 0.11378848728246319, 0.10326086956521739, 0.10326086956521739, 0.10326086956521739, 0.10231923601637108, 0.10027472527472528, 0.09793103448275862, 0.09681881051175657, 0.09695290858725762, 0.09596662030598054, 0.09596662030598054, 0.09596662030598054, 0.09563994374120956, 0.09563994374120956, 0.09590973201692525, 0.09590973201692525, 0.0950354609929078, 0.09557774607703282, 0.09557774607703282, 0.09571428571428571, 0.09585121602288985, 0.09339080459770115, 0.09221902017291066, 0.09248554913294797, 0.09130434782608696, 0.09143686502177069, 0.09170305676855896, 0.09197080291970802, 0.08944281524926687, 0.08957415565345081, 0.08970588235294118, 0.08970588235294118, 0.08836524300441827, 0.08915304606240713, 0.08915304606240713, 0.08779761904761904, 0.08779761904761904, 0.08832335329341318, 0.08858858858858859, 0.0887218045112782, 0.0887218045112782, 0.0887218045112782, 0.0889894419306184, 0.0891238670694864, 0.0891238670694864, 0.08925869894099848, 0.08966565349544073, 0.08841463414634146, 0.08841463414634146, 0.08841463414634146, 0.08868501529051988, 0.08868501529051988, 0.08895705521472393, 0.0890937019969278, 0.08923076923076922, 0.08923076923076922, 0.08936825885978428, 0.08950617283950617, 0.08950617283950617, 0.08950617283950617, 0.08950617283950617, 0.09006211180124224, 0.09034267912772585, 0.09034267912772585, 0.0892018779342723, 0.08948194662480377, 0.0880503144654088, 0.08832807570977919, 0.08846761453396525, 0.08860759493670886, 0.08860759493670886, 0.08860759493670886, 0.08874801901743265, 0.08888888888888889, 0.08888888888888889, 0.0875796178343949, 0.0875796178343949, 0.08771929824561403, 0.08814102564102565, 0.08667736757624397, 0.08520900321543408, 0.08520900321543408, 0.08562197092084006, 0.08441558441558442]\n"
     ]
    }
   ],
   "source": [
    "print longList"
   ]
  },
  {
   "cell_type": "code",
   "execution_count": 131,
   "metadata": {
    "collapsed": false
   },
   "outputs": [],
   "source": [
    "tpm = 20\n",
    "supDf = pd.read_csv(\"/shared/sudlab1/General/projects/utrons_project/misc_files/cancerUtrons/suppresor_%dTPM.txt\" % tpm,sep=\"\\t\", header=None)\n",
    "oncDf = pd.read_csv(\"/shared/sudlab1/General/projects/utrons_project/misc_files/cancerUtrons/oncogenes_%dTPM.txt\" % tpm,sep=\"\\t\", header=None)\n",
    "unkDf = pd.read_csv(\"/shared/sudlab1/General/projects/utrons_project/misc_files/cancerUtrons/unknown_%dTPM.txt\" % tpm,sep=\"\\t\", header=None)"
   ]
  },
  {
   "cell_type": "code",
   "execution_count": 134,
   "metadata": {
    "collapsed": false
   },
   "outputs": [
    {
     "name": "stdout",
     "output_type": "stream",
     "text": [
      "oncogenes\n",
      "known 0.0953757225434\n",
      "novel 0.311111111111\n",
      "\n",
      "Suppressors\n",
      "known 0.0454545454545\n",
      "novel 0.125\n",
      "\n",
      "Unknown\n",
      "known 0.0833333333333\n",
      "novel 0.0\n"
     ]
    }
   ],
   "source": [
    "allOncOverlap = allOverlap[allOverlap[\"GeneId\"].isin(oncDf[0])]\n",
    "novelOncOverlap = novelOverlap[novelOverlap[\"GeneId\"].isin(oncDf[0])]\n",
    "\n",
    "print \"oncogenes\"\n",
    "print \"known\", len(allOncOverlap[allOncOverlap[12]>0])/ float(len(allOncOverlap))\n",
    "print \"novel\", len(novelOncOverlap[novelOncOverlap[7]>0])/float(len(novelOncOverlap))\n",
    "\n",
    "\n",
    "allSupOverlap = allOverlap[allOverlap[\"GeneId\"].isin(supDf[0])]\n",
    "novelSupOverlap = novelOverlap[novelOverlap[\"GeneId\"].isin(supDf[0])]\n",
    "\n",
    "print \"\\nSuppressors\"\n",
    "print \"known\", len(allSupOverlap[allSupOverlap[12]>0])/ float(len(allSupOverlap))\n",
    "print \"novel\", len(novelSupOverlap[novelSupOverlap[7]>0])/float(len(novelSupOverlap))\n",
    "\n",
    "\n",
    "allUnkOverlap = allOverlap[allOverlap[\"GeneId\"].isin(unkDf[0])]\n",
    "novelUnkOverlap = novelOverlap[novelOverlap[\"GeneId\"].isin(unkDf[0])]\n",
    "\n",
    "print \"\\nUnknown\"\n",
    "print \"known\", len(allUnkOverlap[allUnkOverlap[12]>0])/ float(len(allSupOverlap))\n",
    "print \"novel\", len(novelUnkOverlap[novelUnkOverlap[7]>0])/float(len(novelSupOverlap))\n"
   ]
  },
  {
   "cell_type": "code",
   "execution_count": 168,
   "metadata": {
    "collapsed": false
   },
   "outputs": [
    {
     "name": "stdout",
     "output_type": "stream",
     "text": [
      "Known Oncogenes removing microRNAs\n",
      "[u'ACSL3', u'ADAM10', u'AKT1', u'AKT2', u'ALDH2', u'ASPSCR1', u'ATF1', u'ATIC', u'BCL11A', u'BCLAF1', u'BCR', u'BRAF', u'BRD4', u'CALR', u'CAMTA1', u'CANT1', u'CARM1', u'CARS', u'CCNB1IP1', u'CD74', u'CDK4', u'CHCHD7', u'CIITA', u'CLTC', u'CLTCL1', u'CMC4', u'COX6C', u'CREB3L2', u'CTNNB1', u'CTTN', u'DDX6', u'DEK', u'EIF4A2', u'ELN', u'ERBB2', u'ETV5', u'FGFR1', u'FIP1L1', u'GNAS', u'GOT2', u'HERPUD1', u'HNRNPA2B1', u'HOXA9', u'HRAS', u'HSP90AA1', u'IDH2', u'IL7R', u'KEAP1', u'KIF5B', u'KLK2', u'KRAS', u'KTN1', u'LASP1', u'LMO2', u'LZTR1', u'MDM2', u'MED17', u'METTL14', u'MLF1', u'MMP2', u'MUC1', u'MYH11', u'NACA', u'NDRG1', u'NIN', u'NRAS', u'NUMA1', u'NUP214', u'PAX8', u'PBX1', u'PCSK7', u'PDE4DIP', u'PDGFB', u'PICALM', u'PLCG1', u'PML', u'PPARG', u'PPP2R1A', u'PTPN11', u'RAF1', u'RHEB', u'RHOA', u'RPN1', u'SEPT5', u'SEPT9', u'SETDB1', u'SF3B1', u'SFPQ', u'SMC1A', u'SMO', u'SRSF2', u'SRSF3', u'SS18', u'SS18L1', u'SSX1', u'SSX2', u'SSX4', u'STAT3', u'TAF15', u'TCEA1', u'TCL1A', u'TFDP1', u'TFG', u'TFPT', u'TFRC', u'TPM3', u'TPM4', u'TRAF7', u'TRIP11', u'U2AF1', u'WHSC1', u'WWTR1', u'XPO1', u'YWHAE', u'ZNF814']\n",
      "\n",
      "\n",
      "Novel Oncogenes removing microRNAs\n",
      "[u'AKT2', u'CCND1', u'COL1A1', u'COX6C', u'H3F3B', u'HSP90AA1', u'JUN', u'LASP1', u'MAFB', u'MYCL', u'NDRG1', u'NEDD4L', u'NONO', u'PIM1', u'RAF1', u'RHOA', u'SDC4', u'SET', u'SRSF3', u'TPM3', u'TRAF7', u'YWHAE']\n"
     ]
    }
   ],
   "source": [
    "oncGenes1 = pd.merge(knownIds, allOncOverlap, left_on=\"Name\", right_on=\"GeneId\")\n",
    "print \"Known Oncogenes removing microRNAs\"\n",
    "print sorted(oncGenes1[\"Gene\"].unique())\n",
    "\n",
    "\n",
    "oncGenes2 = pd.merge(novelIds, novelOncOverlap, left_on=\"Name\", right_on=\"GeneId\")\n",
    "print \"\\n\\nNovel Oncogenes removing microRNAs\"\n",
    "print sorted(oncGenes2[\"Gene\"].unique())"
   ]
  },
  {
   "cell_type": "code",
   "execution_count": 169,
   "metadata": {
    "collapsed": false
   },
   "outputs": [
    {
     "name": "stdout",
     "output_type": "stream",
     "text": [
      "Known suppressors removing microRNAs\n",
      "[u'ASXL1', u'ATRX', u'B2M', u'BAP1', u'BMPR1A', u'CASP8', u'CAST', u'CBLC', u'CCAR1', u'CDH1', u'CDK12', u'CDKN1B', u'CDKN2A', u'CIC', u'CYLD', u'DDB2', u'EPHB6', u'ERCC3', u'EXT1', u'FANCA', u'FANCG', u'FAS', u'FBXO11', u'FUBP1', u'HLA-B', u'KDM5C', u'MAP2K4', u'MLH1', u'MSH6', u'MUTYH', u'NF1', u'NF2', u'PALB2', u'PIK3R1', u'RB1', u'RECQL4', u'SBDS', u'SDHC', u'SDHD', u'SMAD4', u'STK11', u'TBL1XR1', u'TOM1', u'TP53BP1', u'TSC2', u'XPC']\n",
      "\n",
      "\n",
      "Novel suppressors removing microRNAs\n",
      "[u'B2M', u'CDH1', u'CDKN1A', u'EXT1', u'PIK3R1', u'SDHC', u'ZFP36L2']\n"
     ]
    }
   ],
   "source": [
    "supGenes1 = pd.merge(knownIds, allSupOverlap, left_on=\"Name\", right_on=\"GeneId\")\n",
    "print \"Known suppressors removing microRNAs\"\n",
    "print sorted(supGenes1[\"Gene\"].unique())\n",
    "\n",
    "\n",
    "supGenes2 = pd.merge(novelIds, novelSupOverlap, left_on=\"Name\", right_on=\"GeneId\")\n",
    "print \"\\n\\nNovel suppressors removing microRNAs\"\n",
    "print sorted(supGenes2[\"Gene\"].unique())"
   ]
  },
  {
   "cell_type": "code",
   "execution_count": 157,
   "metadata": {
    "collapsed": false
   },
   "outputs": [
    {
     "name": "stdout",
     "output_type": "stream",
     "text": [
      "\t\tTranscripts \tGenes\n",
      "known Oncogenes \t 692 \t 115\n",
      "novel Oncogenes \t 59 \t 22\n",
      "known suppressors \t 264 \t 46\n",
      "novel suppressors \t 34 \t 7\n"
     ]
    }
   ],
   "source": [
    "print \"\\t\\tTranscripts\", \"\\tGenes\"\n",
    "print \"known Oncogenes \\t %s \\t %s\" % (len(oncGenes1), len(oncGenes1[\"Gene\"].unique()))\n",
    "print \"novel Oncogenes \\t %s \\t %s\" % (len(oncGenes2), len(oncGenes2[\"Gene\"].unique()))\n",
    "print \"known suppressors \\t %s \\t %s\" % ( len(supGenes1), len(supGenes1[\"Gene\"].unique()))\n",
    "print \"novel suppressors \\t %s \\t %s\"% ( len(supGenes2), len(supGenes2[\"Gene\"].unique()))"
   ]
  },
  {
   "cell_type": "code",
   "execution_count": 165,
   "metadata": {
    "collapsed": false
   },
   "outputs": [],
   "source": [
    "supjoined = pd.concat([supGenes1, supGenes2])\n",
    "supjoined.to_csv(\"/shared/sudlab1/General/projects/utrons_project/misc_files/cancerUtrons/suppressorMicroRNA.txt\", sep=\"\\t\", header=None, index=None)\n",
    "\n",
    "oncjoined = pd.concat([oncGenes1, oncGenes2])\n",
    "oncjoined.to_csv(\"/shared/sudlab1/General/projects/utrons_project/misc_files/cancerUtrons/oncogeneMicroRNA.txt\", sep=\"\\t\", header=None, index=None)"
   ]
  }
 ],
 "metadata": {
  "kernelspec": {
   "display_name": "Python 2",
   "language": "python",
   "name": "python2"
  },
  "language_info": {
   "codemirror_mode": {
    "name": "ipython",
    "version": 2
   },
   "file_extension": ".py",
   "mimetype": "text/x-python",
   "name": "python",
   "nbconvert_exporter": "python",
   "pygments_lexer": "ipython2",
   "version": "2.7.13"
  }
 },
 "nbformat": 4,
 "nbformat_minor": 2
}
