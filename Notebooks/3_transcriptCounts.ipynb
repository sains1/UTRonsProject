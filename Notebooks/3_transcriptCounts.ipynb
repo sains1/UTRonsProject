{
 "cells": [
  {
   "cell_type": "markdown",
   "metadata": {},
   "source": [
    "### Looking at how many utron transcripts each gene has "
   ]
  },
  {
   "cell_type": "code",
   "execution_count": 1,
   "metadata": {
    "collapsed": false
   },
   "outputs": [
    {
     "data": {
      "text/plain": [
       "<sqlite3.Cursor at 0x7f4c50821340>"
      ]
     },
     "execution_count": 1,
     "metadata": {},
     "output_type": "execute_result"
    }
   ],
   "source": [
    "import sqlite3\n",
    "import pandas as pd\n",
    "import numpy as np\n",
    "\n",
    "\n",
    "cnx = sqlite3.connect('/shared/sudlab1/General/projects/utrons_project/BladderCancerUtrons/431BladderUtrons.db')\n",
    "cnx.execute(\"ATTACH '/shared/sudlab1/General/annotations/hg38_noalt_ensembl85/csvdb' as annotations\")"
   ]
  },
  {
   "cell_type": "markdown",
   "metadata": {},
   "source": [
    "Get list of all and novel utron ids and matched gene names in a DF"
   ]
  },
  {
   "cell_type": "code",
   "execution_count": 2,
   "metadata": {
    "collapsed": true
   },
   "outputs": [],
   "source": [
    "# Get all utron ids\n",
    "query_text1 = '''\n",
    "    SELECT uid.transcript_id AS transcript,ti.gene_name AS gene\n",
    "    FROM all_utrons_ids AS uid\n",
    "    INNER JOIN transcript_class AS tc\n",
    "    ON tc.transcript_id=uid.transcript_id\n",
    "    INNER join annotations.transcript_info AS ti\n",
    "    ON ti.transcript_id = tc.match_transcript_id\n",
    "    WHERE uid.track=\"agg-agg-agg\" AND uid.transcript_id like \"ENS%\"\n",
    "    GROUP BY uid.transcript_id\n",
    "    '''\n",
    "allUtronGenes = pd.read_sql(query_text1, cnx)\n",
    "\n",
    "# Get novel utron ids\n",
    "query_text1 = '''\n",
    "    SELECT uid.transcript_id AS transcript, ti.gene_name AS gene\n",
    "    FROM novel_utrons_ids AS uid\n",
    "    INNER JOIN transcript_class AS tc\n",
    "    ON tc.transcript_id=uid.transcript_id\n",
    "    INNER join annotations.transcript_info AS ti\n",
    "    ON ti.transcript_id = tc.match_transcript_id\n",
    "    WHERE uid.track=\"agg-agg-agg\" AND uid.transcript_id like \"MSTRG%\"\n",
    "    GROUP BY uid.transcript_id\n",
    "    '''\n",
    "novelUtronGenes = pd.read_sql(query_text1, cnx)"
   ]
  },
  {
   "cell_type": "code",
   "execution_count": 3,
   "metadata": {
    "collapsed": false
   },
   "outputs": [],
   "source": [
    "# Count the number of transcripts for each gene\n",
    "novelUtronGenes[\"num\"] = 1\n",
    "countNovelTxs = novelUtronGenes.groupby(\"gene\").sum()\n",
    "\n",
    "allUtronGenes[\"num\"] = 1\n",
    "countAllTxs = allUtronGenes.groupby(\"gene\").sum()"
   ]
  },
  {
   "cell_type": "code",
   "execution_count": 4,
   "metadata": {
    "collapsed": false
   },
   "outputs": [],
   "source": [
    "# Count txs and append to list\n",
    "\n",
    "# Novel counts\n",
    "maxCountNovel = max(countNovelTxs[\"num\"].tolist()) + 1\n",
    "numGenes = len(countNovelTxs)\n",
    "novelCountList= []\n",
    "\n",
    "for num in range(1, maxCountNovel, 1):\n",
    "    count =len(countNovelTxs[countNovelTxs[\"num\"]>=num])\n",
    "    percentage = float(count) / numGenes\n",
    "    novelCountList.append(percentage)\n",
    "    \n",
    "\n",
    "    \n",
    "\n",
    "# Known counts\n",
    "maxCountAll = max(countAllTxs[\"num\"].tolist()) + 1\n",
    "numGenes = len(countAllTxs)\n",
    "allCountList= []\n",
    "\n",
    "for num in range(1, maxCountAll, 1):\n",
    "    count =len(countAllTxs[countAllTxs[\"num\"]>=num])\n",
    "    percentage = float(count) / numGenes\n",
    "    allCountList.append(percentage)"
   ]
  },
  {
   "cell_type": "code",
   "execution_count": 5,
   "metadata": {
    "collapsed": false
   },
   "outputs": [
    {
     "name": "stdout",
     "output_type": "stream",
     "text": [
      "Populating the interactive namespace from numpy and matplotlib\n"
     ]
    },
    {
     "data": {
      "image/png": "[encoded data removed]",
      "text/plain": [
       "<matplotlib.figure.Figure at 0x7f4c4f901d10>"
      ]
     },
     "metadata": {},
     "output_type": "display_data"
    }
   ],
   "source": [
    "%pylab inline\n",
    "\n",
    "pylab.plot(range(0,maxCountNovel-1,1), novelCountList, color=\"blue\", alpha=0.7, label=\"novel Transcripts\")\n",
    "pylab.plot(range(0,maxCountAll-1,1), allCountList, color=\"red\", label=\"known Transcripts\")\n",
    "\n",
    "pylab.xlim(0,20)\n",
    "pylab.ylabel(\"Proportion\"); pylab.xlabel(\"Number of transcripts per gene\")\n",
    "pylab.ylabel=\"Percentage\"\n",
    "pylab.legend()\n",
    "pylab.savefig(\"images/3_transcriptCountDistribution\", dpi=300)"
   ]
  },
  {
   "cell_type": "code",
   "execution_count": 6,
   "metadata": {
    "collapsed": false
   },
   "outputs": [
    {
     "name": "stdout",
     "output_type": "stream",
     "text": [
      "percentages with atleast 2 transcripts\n",
      "16.6534496431\n",
      "33.3663488919\n",
      "\n",
      "percentages with atleast 5 transcripts\n",
      "5.23394131642\n",
      "8.69134579671\n",
      "\n",
      "percentages with atleast 10 transcripts\n",
      "1.42743854084\n",
      "1.73331682555\n"
     ]
    }
   ],
   "source": [
    "print \"percentages with atleast 2 transcripts\"\n",
    "print novelCountList[2]*100\n",
    "print allCountList[2]*100\n",
    "\n",
    "\n",
    "print \"\\npercentages with atleast 5 transcripts\"\n",
    "print novelCountList[5]*100\n",
    "print allCountList[5]*100\n",
    "\n",
    "print \"\\npercentages with atleast 10 transcripts\"\n",
    "print novelCountList[10]*100\n",
    "print allCountList[10]*100"
   ]
  }
 ],
 "metadata": {
  "kernelspec": {
   "display_name": "Python 2",
   "language": "python",
   "name": "python2"
  },
  "language_info": {
   "codemirror_mode": {
    "name": "ipython",
    "version": 2
   },
   "file_extension": ".py",
   "mimetype": "text/x-python",
   "name": "python",
   "nbconvert_exporter": "python",
   "pygments_lexer": "ipython2",
   "version": "2.7.13"
  }
 },
 "nbformat": 4,
 "nbformat_minor": 2
}
