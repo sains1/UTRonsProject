{
 "cells": [
  {
   "cell_type": "markdown",
   "metadata": {},
   "source": [
    "### Looking at the enrichment of cancer genes in novel and all utrons in the bladder cancer samples\n",
    "- 1) for all utrons\n",
    "- 2) for novel utrons\n",
    "- 3) for all transcripts (control)"
   ]
  },
  {
   "cell_type": "code",
   "execution_count": 2,
   "metadata": {
    "collapsed": true
   },
   "outputs": [],
   "source": [
    "import pandas as pd\n",
    "import numpy as np\n",
    "import sqlite3 \n",
    "import math\n",
    "\n",
    "\n",
    "# Open utrons db\n",
    "cnx = sqlite3.connect('/shared/sudlab1/General/projects/utrons_project/BladderCancerUtrons/431BladderUtrons.db')\n",
    "cnx.execute(\"ATTACH '/shared/sudlab1/General/annotations/hg38_noalt_ensembl85/csvdb' as annotations\")\n",
    "\n",
    "\n",
    "# Open cancer file\n",
    "cancerFile = '/shared/sudlab1/General/projects/utrons_project/ReferenceFiles/cancerGenes.txt'\n",
    "cancerGenes = pd.read_csv(cancerFile, sep=\"\\t\", header=None)\n",
    "sup = [\"suppressor\"]\n",
    "onc = [\"oncogene\"]\n",
    "unk = [\"Unknown\"]\n",
    "\n",
    "# Get lists of genes\n",
    "cancerSupGenes = cancerGenes[cancerGenes[1].isin(sup)].ix[:,0].tolist()\n",
    "cancerOncGenes = cancerGenes[cancerGenes[1].isin(onc)].ix[:,0].tolist()\n",
    "cancerUnkGenes = cancerGenes[cancerGenes[1].isin(unk)].ix[:,0].tolist()\n",
    "\n",
    "\n",
    "# Open list of systematic utrons\n",
    "sysFile = '/shared/sudlab1/General/projects/utrons_project/misc_files/systematicUtronGenes.txt'\n",
    "for line in open(sysFile).readlines():\n",
    "    sysUtronGenes = line.split()\n",
    "    \n",
    "    \n",
    "# Number of samples to use\n",
    "sampleCount = 432"
   ]
  },
  {
   "cell_type": "code",
   "execution_count": 23,
   "metadata": {
    "collapsed": true
   },
   "outputs": [],
   "source": [
    "\"\"\"\n",
    "SQL QUERIES TO GET TRANSCRIPT IDS TO BE USED LATER\n",
    "\"\"\"\n",
    "\n",
    "#########################################################\n",
    "# Dataframe of all transcript IDs \n",
    "query_text1 = '''\n",
    "    SELECT tc.match_transcript_id AS match_id, tc.transcript_id AS Name\n",
    "    FROM transcript_class AS tc\n",
    "    WHERE tc.track=\"agg-agg-agg\"\n",
    "    ORDER BY match_transcript_id\n",
    "    '''\n",
    "transcriptIds = pd.read_sql_query(query_text1, cnx)\n",
    "\n",
    "\n",
    "\n",
    "#########################################################\n",
    "# Dataframe of novel UTRons IDs and matched transcript IDs\n",
    "query_text1 = '''\n",
    "    SELECT uid.transcript_id AS Name, ti.gene_name AS Gene\n",
    "    FROM novel_utrons_ids AS uid\n",
    "    INNER JOIN transcript_class AS tc\n",
    "    ON tc.transcript_id = uid.transcript_id\n",
    "    INNER JOIN annotations.transcript_info AS ti\n",
    "    ON ti.transcript_id = tc.match_transcript_id\n",
    "    WHERE uid.track='agg-agg-agg'\n",
    "    GROUP BY uid.transcript_id\n",
    "    '''\n",
    "novelUtronsDf = pd.read_sql_query(query_text1, cnx)\n",
    "novelUtronsDf = novelUtronsDf[~novelUtronsDf[\"Gene\"].isin(sysUtronGenes)]\n",
    "\n",
    "#########################################################\n",
    "# Dataframe of all UTRon IDs and matched transcript IDs\n",
    "query_text1 = '''\n",
    "    SELECT uid.transcript_id AS Name, ti.gene_name AS Gene\n",
    "    FROM all_utrons_ids AS uid\n",
    "    INNER JOIN transcript_class AS tc\n",
    "    ON tc.transcript_id = uid.transcript_id\n",
    "    INNER JOIN annotations.transcript_info AS ti\n",
    "    ON ti.transcript_id = tc.match_transcript_id\n",
    "    WHERE uid.track='agg-agg-agg'\n",
    "    GROUP BY uid.transcript_id\n",
    "    '''\n",
    "allUtronsDf = pd.read_sql_query(query_text1, cnx)\n",
    "allUtronsDf = allUtronsDf[~allUtronsDf[\"Gene\"].isin(sysUtronGenes)]\n",
    "\n",
    "#########################################################\n",
    "# Dataframe of all transcript IDs and gene names\n",
    "query_text1 = '''\n",
    "    SELECT tc.transcript_id AS Name, ti.gene_name as Gene\n",
    "    FROM transcript_class AS tc\n",
    "    INNER JOIN annotations.transcript_info AS ti\n",
    "    ON ti.transcript_id = tc.match_transcript_id\n",
    "    WHERE tc.track='agg-agg-agg'\n",
    "    GROUP BY tc.transcript_id\n",
    "    '''\n",
    "controlTranscriptsDf = pd.read_sql_query(query_text1, cnx)"
   ]
  },
  {
   "cell_type": "code",
   "execution_count": 4,
   "metadata": {
    "collapsed": true
   },
   "outputs": [],
   "source": [
    "\"\"\"\n",
    "Function getTpms\n",
    "1 - Takes a dataframe of transcript ids\n",
    "2 - Returns a dataframe of sample tpms\n",
    "\n",
    "\"\"\"\n",
    "\n",
    "\n",
    "# Get tpms for UTRons\n",
    "def getTpms(sample, runNum, index, Dataframe):\n",
    "    \n",
    "    # Load file into dataframe\n",
    "    sampleFile = '/shared/sudlab1/General/projects/utrons_project/BladderCancerUtrons/Quantifications/%s_agg-agg-agg.sf' % sample\n",
    "    sampleDf = pd.read_csv(sampleFile, sep='\\t') \n",
    "    \n",
    "    # Copy only Tx ids and TPM values from dataframe\n",
    "    sampleDf = sampleDf[[0,3]].copy() \n",
    "    \n",
    "    # Merge with Utrons DF (get only utron tpms)\n",
    "    sampleDf = pd.merge(Dataframe, sampleDf, right_on=\"Name\", left_on=\"Name\")\n",
    "    \n",
    "    # Make columns named with the sample number\n",
    "    indexname = \"TPM_%d\" % index\n",
    "    sampleDf[indexname] = sampleDf[\"TPM\"]\n",
    "\n",
    "    # If passed with runNum == 1, return tpms AND tx IDs, else return just the tpms\n",
    "    if runNum ==1:\n",
    "        return sampleDf[[\"Name\",\"Gene\", indexname]]\n",
    "    if runNum ==2:\n",
    "        return sampleDf[[indexname]]\n",
    "    \n"
   ]
  },
  {
   "cell_type": "code",
   "execution_count": 5,
   "metadata": {
    "collapsed": false
   },
   "outputs": [],
   "source": [
    "\"\"\"\n",
    "GET TPMS FOR NOVEL UTRONS\n",
    "\"\"\"\n",
    "\n",
    "# Loop through samples and get tpms\n",
    "novelUtronTpms = getTpms(\"ZF-WT-1\", 1, 1, novelUtronsDf)\n",
    "for num in range(2,sampleCount,1):\n",
    "    if num != 252 and num != 347:\n",
    "        sample = \"ZF-WT-%d\" % num\n",
    "        sampleTpms = getTpms(sample, 2, num, novelUtronsDf)\n",
    "        novelUtronTpms = pd.concat([novelUtronTpms, sampleTpms], axis=1)\n"
   ]
  },
  {
   "cell_type": "code",
   "execution_count": 6,
   "metadata": {
    "collapsed": true
   },
   "outputs": [
    {
     "name": "stdout",
     "output_type": "stream",
     "text": [
      "2 3 4 5 6 7 8 9 10 11 12 13 14 15 16 17 18 19 20 21 22 23 24 25 26 27 28 29 30 31 32 33 34 35 36 37 38 39 40 41 42 43 44 45 46 47 48 49 50 51 52 53 54 55 56 57 58 59 60 61 62 63 64 65 66 67 68 69 70 71 72 73 74 75 76 77 78 79 80 81 82 83 84 85 86 87 88 89 90 91 92 93 94 95 96 97 98 99 100 101 102 103 104 105 106 107 108 109 110 111 112 113 114 115 116 117 118 119 120 121 122 123 124 125 126 127 128 129 130 131 132 133 134 135 136 137 138 139 140 141 142 143 144 145 146 147 148 149 150 151 152 153 154 155 156 157 158 159 160 161 162 163 164 165 166 167 168 169 170 171 172 173 174 175 176 177 178 179 180 181 182 183 184 185 186 187 188 189 190 191 192 193 194 195 196 197 198 199 200 201 202 203 204 205 206 207 208 209 210 211 212 213 214 215 216 217 218 219 220 221 222 223 224 225 226 227 228 229 230 231 232 233 234 235 236 237 238 239 240 241 242 243 244 245 246 247 248 249 250 251 253 254 255 256 257 258 259 260 261 262 263 264 265 266 267 268 269 270 271 272 273 274 275 276 277 278 279 280 281 282 283 284 285 286 287 288 289 290 291 292 293 294 295 296 297 298 299 300 301 302 303 304 305 306 307 308 309 310 311 312 313 314 315 316 317 318 319 320 321 322 323 324 325 326 327 328 329 330 331 332 333 334 335 336 337 338 339 340 341 342 343 344 345 346 348 349 350 351 352 353 354 355 356 357 358 359 360 361 362 363 364 365 366 367 368 369 370 371 372 373 374 375 376 377 378 379 380 381 382 383 384 385 386 387 388 389 390 391 392 393 394 395 396 397 398 399 400 401 402 403 404 405 406 407 408 409 410 411 412 413 414 415 416 417 418 419 420 421 422 423 424 425 426 427 428 429 430 431\n"
     ]
    }
   ],
   "source": [
    "\"\"\"\n",
    "GET TPMS FOR ALL UTRONS\n",
    "\"\"\"\n",
    "\n",
    "# Loop through samples and get tpms\n",
    "allUtronTpms = getTpms(\"ZF-WT-1\", 1, 1, allUtronsDf)\n",
    "for num in range(2,sampleCount,1):\n",
    "    if num != 252 and num != 347:\n",
    "        sample = \"ZF-WT-%d\" % num\n",
    "        sampleTpms = getTpms(sample, 2, num, allUtronsDf)\n",
    "        allUtronTpms = pd.concat([allUtronTpms, sampleTpms], axis=1)\n",
    "        print num,"
   ]
  },
  {
   "cell_type": "code",
   "execution_count": 24,
   "metadata": {
    "collapsed": true
   },
   "outputs": [
    {
     "name": "stdout",
     "output_type": "stream",
     "text": [
      "2 3 4 5 6 7 8 9 10 11 12 13 14 15 16 17 18 19 20 21 22 23 24 25 26 27 28 29 30 31 32 33 34 35 36 37 38 39 40 41 42 43 44 45 46 47 48 49 50 51 52 53 54 55 56 57 58 59 60 61 62 63 64 65 66 67 68 69 70 71 72 73 74 75 76 77 78 79 80 81 82 83 84 85 86 87 88 89 90 91 92 93 94 95 96 97 98 99 100 101 102 103 104 105 106 107 108 109 110 111 112 113 114 115 116 117 118 119 120 121 122 123 124 125 126 127 128 129 130 131 132 133 134 135 136 137 138 139 140 141 142 143 144 145 146 147 148 149 150 151 152 153 154 155 156 157 158 159 160 161 162 163 164 165 166 167 168 169 170 171 172 173 174 175 176 177 178 179 180 181 182 183 184 185 186 187 188 189 190 191 192 193 194 195 196 197 198 199 200 201 202 203 204 205 206 207 208 209 210 211 212 213 214 215 216 217 218 219 220 221 222 223 224 225 226 227 228 229 230 231 232 233 234 235 236 237 238 239 240 241 242 243 244 245 246 247 248 249 250 251 253 254 255 256 257 258 259 260 261 262 263 264 265 266 267 268 269 270 271 272 273 274 275 276 277 278 279 280 281 282 283 284 285 286 287 288 289 290 291 292 293 294 295 296 297 298 299 300 301 302 303 304 305 306 307 308 309 310 311 312 313 314 315 316 317 318 319 320 321 322 323 324 325 326 327 328 329 330 331 332 333 334 335 336 337 338 339 340 341 342 343 344 345 346 348 349 350 351 352 353 354 355 356 357 358 359 360 361 362 363 364 365 366 367 368 369 370 371 372 373 374 375 376 377 378 379 380 381 382 383 384 385 386 387 388 389 390 391 392 393 394 395 396 397 398 399 400 401 402 403 404 405 406 407 408 409 410 411 412 413 414 415 416 417 418 419 420 421 422 423 424 425 426 427 428 429 430 431\n"
     ]
    }
   ],
   "source": [
    "\"\"\"\n",
    "GET TPMS FOR CONTROL TRANSCRIPTS\n",
    "\"\"\"\n",
    "\n",
    "# Loop through samples and get control TranscriptsDf\n",
    "controlTpms = getTpms(\"ZF-WT-1\", 1, 1, controlTranscriptsDf)\n",
    "for num in range(2,sampleCount,1):\n",
    "    if num != 252 and num != 347:\n",
    "        sample = \"ZF-WT-%d\" % num\n",
    "        sampleTpms = getTpms(sample, 2, num, controlTranscriptsDf)\n",
    "        controlTpms = pd.concat([controlTpms, sampleTpms], axis=1)\n",
    "        print num,"
   ]
  },
  {
   "cell_type": "markdown",
   "metadata": {},
   "source": [
    "#### Now have lists of all utron tpms, novel tpms and all tx tpms\n",
    "#### Next = counting the percentages of cancer genes"
   ]
  },
  {
   "cell_type": "code",
   "execution_count": 7,
   "metadata": {
    "collapsed": true
   },
   "outputs": [],
   "source": [
    "\"\"\"\n",
    "Annotate the Dataframes with splice information and cancer status \n",
    "\"\"\"\n",
    "\n",
    "\n",
    "# File with Length info of the novel UTRons\n",
    "lengthFile = \"/shared/sudlab1/General/projects/utrons_project/misc_files/SpliceSite/novelLengths.txt\"\n",
    "lengthInfo = pd.read_csv(lengthFile, sep=\"\\t\")\n",
    "\n",
    "# File of novel utrons with non-canonical splice sites\n",
    "badsplicefile = \"/shared/sudlab1/General/projects/utrons_project/misc_files/SpliceSite/novelUtrons_unknown_100000bp.txt\"\n",
    "badspliceUtrons = pd.read_csv(badsplicefile, header=None, sep=\"\\t\", index_col=0)[1].tolist()\n",
    "\n",
    "\n",
    "\"\"\"\n",
    "Function Returns the cancer status of each gene passed to it\n",
    "\"\"\"\n",
    "\n",
    "def cancerStatus(row):\n",
    "    gene = row[\"Gene\"]\n",
    "    if gene in cancerOncGenes:\n",
    "        return \"oncogene\"\n",
    "    elif gene in cancerSupGenes:\n",
    "        return \"suppressor\"\n",
    "    elif gene in cancerUnkGenes:\n",
    "        return \"unknown\"\n",
    "    else:\n",
    "        return \"None\"\n",
    "\n",
    "    \n",
    "    \n",
    "\"\"\"\n",
    "Function returns the splice site status (1) = known, (0) = unknown\n",
    "\"\"\"    \n",
    "def spliceStatus(row):\n",
    "    tx = row[\"Name\"]\n",
    "    if tx in badspliceUtrons:\n",
    "        return 0\n",
    "    else:\n",
    "        return 1"
   ]
  },
  {
   "cell_type": "code",
   "execution_count": 27,
   "metadata": {
    "collapsed": false
   },
   "outputs": [],
   "source": [
    "# Run functions above\n",
    "novelTpms = novelUtronTpms\n",
    "novelTpms[\"Cancer\"] = novelTpms.apply(cancerStatus, axis=1)\n",
    "novelTpms[\"Splice\"] = novelTpms.apply(spliceStatus, axis=1)\n",
    "\n",
    "knownTpms = allUtronTpms\n",
    "knownTpms[\"Cancer\"] = knownTpms.apply(cancerStatus, axis=1)\n",
    "knownTpms[\"Splice\"] = knownTpms.apply(spliceStatus, axis=1)\n",
    "\n",
    "controlTxTpms = controlTpms\n",
    "controlTxTpms[\"Cancer\"] = controlTxTpms.apply(cancerStatus, axis=1)\n",
    "controlTxTpms[\"Splice\"] = controlTxTpms.apply(spliceStatus, axis=1)"
   ]
  },
  {
   "cell_type": "code",
   "execution_count": 9,
   "metadata": {
    "collapsed": false
   },
   "outputs": [],
   "source": [
    "\"\"\"\n",
    "Function getCancerPercentages\n",
    "1- Takes a dataframe of TPMs as input and a sample number\n",
    "2- Returns a list of percentages of cancer enrichment for the sample\n",
    "\"\"\"\n",
    "\n",
    "tpmRange = range(0,410,10)\n",
    "\n",
    "# Get cancer percentages\n",
    "def getCancerPercentages(Dataframe, sample):\n",
    "    \n",
    "    # Get Dataframe of sample tpms\n",
    "    sampleIndex = \"TPM_%d\" % sample\n",
    "    sampleDataframe = Dataframe[[sampleIndex, \"Cancer\"]]\n",
    "    \n",
    "    # Lists to hold percentages\n",
    "    oncogeneList = []\n",
    "    suppressorList = []\n",
    "    unknownList = []\n",
    "    \n",
    "    # Loop through TPM range\n",
    "    for tpm in tpmRange:\n",
    "        sampleTpmValues = sampleDataframe[sampleDataframe[sampleIndex] >= tpm]\n",
    "        geneCount = len(sampleTpmValues)\n",
    "        \n",
    "        if geneCount > 0:\n",
    "            numOncogenes = len(sampleTpmValues[sampleTpmValues[\"Cancer\"]==\"oncogene\"])\n",
    "            numSupressors = len(sampleTpmValues[sampleTpmValues[\"Cancer\"]==\"suppressor\"])\n",
    "            numUnknown = len(sampleTpmValues[sampleTpmValues[\"Cancer\"]==\"unknown\"])\n",
    "\n",
    "            percentageOncogenes = (float(numOncogenes) / geneCount) * 100\n",
    "            percentageSupressors = (float(numSupressors) / geneCount) * 100\n",
    "            percentageUnknown = (float(numUnknown) / geneCount) * 100\n",
    "        \n",
    "        else:\n",
    "            percentageOncogenes = None\n",
    "            percentageSupressors = None\n",
    "            percentageUnknown = None\n",
    "            \n",
    "        oncogeneList.append(percentageOncogenes)\n",
    "        suppressorList.append(percentageSupressors)\n",
    "        unknownList.append(percentageUnknown)\n",
    "        \n",
    "    return oncogeneList, suppressorList, unknownList\n",
    "\n",
    "\n",
    "\n",
    "\"\"\"\n",
    "Function averageArray\n",
    "1 - takes output from getCancerPercentages\n",
    "2 - Returns a list of percentages averaged across all samples\n",
    "\"\"\"\n",
    "\n",
    "def averageArray(geneArray):\n",
    "    numTpms = len(geneArray)\n",
    "    \n",
    "    Averages = []\n",
    "    for num in range(0, numTpms, 1):\n",
    "        tpms = geneArray[num,:]\n",
    "        tpmTotal = sum([a for a in tpms if a != None])\n",
    "        tpmLength = len([a for a in tpms if a != None])\n",
    "        tpmAverage = tpmTotal / tpmLength\n",
    "        Averages.append(tpmAverage)\n",
    "        \n",
    "    return Averages"
   ]
  },
  {
   "cell_type": "code",
   "execution_count": 10,
   "metadata": {
    "collapsed": false
   },
   "outputs": [],
   "source": [
    "######################################################\n",
    "# Getting Novel Percentages using getCancerPercentages\n",
    "\n",
    "novelOncogeneArray, novelSuppressorArray, novelUnknownArray = getCancerPercentages(novelTpms, 1)\n",
    "\n",
    "for num in range(2, sampleCount, 1):\n",
    "    if num != 252 and num != 347:\n",
    "        a , b ,c = getCancerPercentages(novelTpms, num)\n",
    "        novelOncogeneArray = np.column_stack([novelOncogeneArray, a])\n",
    "        novelSuppressorArray = np.column_stack([novelSuppressorArray, b])\n",
    "        novelUnknownArray = np.column_stack([novelUnknownArray, c])\n",
    "        \n",
    "novelOncPercentages = averageArray(novelOncogeneArray)\n",
    "novelSupPercentages = averageArray(novelSuppressorArray)\n",
    "novelUnkPercentages = averageArray(novelUnknownArray)"
   ]
  },
  {
   "cell_type": "code",
   "execution_count": 11,
   "metadata": {
    "collapsed": true
   },
   "outputs": [],
   "source": [
    "######################################################\n",
    "# Getting Known Percentages using getCancerPercentages\n",
    "\n",
    "knownOncogeneArray, knownSuppressorArray, knownUnknownArray = getCancerPercentages(knownTpms, 1)\n",
    "\n",
    "for num in range(2, sampleCount, 1):\n",
    "    if num != 252 and num != 347:\n",
    "        a , b ,c = getCancerPercentages(knownTpms, num)\n",
    "        knownOncogeneArray = np.column_stack([knownOncogeneArray, a])\n",
    "        knownSuppressorArray = np.column_stack([knownSuppressorArray, b])\n",
    "        knownUnknownArray = np.column_stack([knownUnknownArray, c])\n",
    "        \n",
    "knownOncPercentages = averageArray(knownOncogeneArray)\n",
    "knownSupPercentages = averageArray(knownSuppressorArray)\n",
    "knownUnkPercentages = averageArray(knownUnknownArray)"
   ]
  },
  {
   "cell_type": "code",
   "execution_count": 28,
   "metadata": {
    "collapsed": true
   },
   "outputs": [],
   "source": [
    "######################################################\n",
    "# Getting Control TX percentages using getCancerPercentages\n",
    "\n",
    "controlOncogeneArray, controlSuppressorArray, controlUnknownArray = getCancerPercentages(controlTxTpms, 1)\n",
    "\n",
    "for num in range(2, sampleCount, 1):\n",
    "    if num != 252 and num != 347:\n",
    "        a , b ,c = getCancerPercentages(controlTxTpms, num)\n",
    "        controlOncogeneArray = np.column_stack([controlOncogeneArray, a])\n",
    "        controlSuppressorArray = np.column_stack([controlSuppressorArray, b])\n",
    "        controlUnknownArray = np.column_stack([controlUnknownArray, c])\n",
    "        \n",
    "controlOncPercentages = averageArray(controlOncogeneArray)\n",
    "controlSupPercentages = averageArray(controlSuppressorArray)\n",
    "controlUnkPercentages = averageArray(controlUnknownArray)"
   ]
  },
  {
   "cell_type": "code",
   "execution_count": 41,
   "metadata": {
    "collapsed": false
   },
   "outputs": [
    {
     "name": "stdout",
     "output_type": "stream",
     "text": [
      "Populating the interactive namespace from numpy and matplotlib\n"
     ]
    },
    {
     "data": {
      "image/png": "[encoded data removed]",
      "text/plain": [
       "<matplotlib.figure.Figure at 0x7f17b2443850>"
      ]
     },
     "metadata": {},
     "output_type": "display_data"
    }
   ],
   "source": [
    "\"\"\"\n",
    "Novel Vs known Utrons plot\n",
    "\"\"\"\n",
    "\n",
    "%pylab inline\n",
    "\n",
    "# Plot vals\n",
    "pylab.plot(tpmRange, novelOncPercentages, color=\"red\", label=\"Novel UTRons\")\n",
    "pylab.plot(tpmRange, knownOncPercentages, color=\"blue\", label=\"All UTRons\")\n",
    "pylab.plot(tpmRange, controlOncPercentages, color=\"black\", label=\"All Transcripts\")\n",
    "\n",
    "# Figure options\n",
    "pylab.ylim(0,16)\n",
    "pylab.ylim(0,16)\n",
    "\n",
    "pylab.ylabel(\"Pecentage\")\n",
    "pylab.xlabel(\"Expression Estimate (TPM)\")\n",
    "\n",
    "pylab.legend(fontsize=\"small\")\n",
    "pylab.savefig(\"./images/InitialOncogenePercentages\", dpi=300)"
   ]
  },
  {
   "cell_type": "code",
   "execution_count": 42,
   "metadata": {
    "collapsed": false
   },
   "outputs": [
    {
     "data": {
      "image/png": "[encoded data removed]",
      "text/plain": [
       "<matplotlib.figure.Figure at 0x7f17ade1e3d0>"
      ]
     },
     "metadata": {},
     "output_type": "display_data"
    }
   ],
   "source": [
    "pylab.plot(tpmRange, novelSupPercentages, color=\"red\", label=\"Novel UTRons\")\n",
    "pylab.plot(tpmRange, knownSupPercentages, color=\"blue\", label=\"All UTRons\")\n",
    "pylab.plot(tpmRange, controlSupPercentages, color=\"black\", label=\"All Transcripts\")\n",
    "\n",
    "\n",
    "# Figure options\n",
    "pylab.ylim(0,16)\n",
    "pylab.ylim(0,16)\n",
    "\n",
    "pylab.ylabel(\"Pecentage\")\n",
    "pylab.xlabel(\"Expression Estimate (TPM)\")\n",
    "\n",
    "pylab.legend(fontsize=\"small\")\n",
    "pylab.savefig(\"./images/InitialSuppressorPercentages\", dpi=300)"
   ]
  },
  {
   "cell_type": "code",
   "execution_count": 13,
   "metadata": {
    "collapsed": false
   },
   "outputs": [],
   "source": [
    "#######################################################\n",
    "# Comparing novel utrons with good / bad splice sites\n",
    "\n",
    "\n",
    "unknownSpliceUtrons = novelTpms[novelTpms[\"Splice\"] == 0]\n",
    "knownSpliceUtrons = novelTpms[novelTpms[\"Splice\"] == 1]\n",
    "\n",
    "unknownOncsArray, unknownSupsArray, unknownUnksArray = getCancerPercentages(unknownSpliceUtrons, 1)\n",
    "knownOncsArray, knownSupsArray, knownUnksArray = getCancerPercentages(knownSpliceUtrons, 1)\n",
    "\n",
    "\n",
    "for num in range(2, sampleCount, 1):\n",
    "    if num != 252 and num != 347:\n",
    "        a , b ,c = getCancerPercentages(unknownSpliceUtrons, num)\n",
    "        unknownOncsArray = np.column_stack([unknownOncsArray, a])\n",
    "        unknownSupsArray = np.column_stack([unknownSupsArray, b])\n",
    "        unknownUnksArray = np.column_stack([unknownUnksArray, c])\n",
    "        \n",
    "        a , b ,c = getCancerPercentages(knownSpliceUtrons, num)\n",
    "        knownOncsArray = np.column_stack([knownOncsArray, a])\n",
    "        knownSupsArray = np.column_stack([knownSupsArray, b])\n",
    "        knownUnksArray = np.column_stack([knownUnksArray, c])\n",
    "        \n",
    "unknownOncsPercs = averageArray(unknownOncsArray)\n",
    "unknownSupsPercs = averageArray(unknownSupsArray)\n",
    "unknownUnksPercs = averageArray(unknownUnksArray)\n",
    "\n",
    "knownOncsPercs = averageArray(knownOncsArray)\n",
    "knownSupsPercs = averageArray(knownSupsArray)\n",
    "knownUnksPercs = averageArray(knownUnksArray)"
   ]
  },
  {
   "cell_type": "code",
   "execution_count": 88,
   "metadata": {
    "collapsed": false
   },
   "outputs": [
    {
     "data": {
      "image/png": "[encoded data removed]",
      "text/plain": [
       "<matplotlib.figure.Figure at 0x7f17b92fcad0>"
      ]
     },
     "metadata": {},
     "output_type": "display_data"
    }
   ],
   "source": [
    "\"\"\"\n",
    "Known splice site vs unknown splice site plot\n",
    "\"\"\"\n",
    "\n",
    "pylab.plot(tpmRange, knownSupsPercs, color=\"red\", label=\"Known Splice Site Suppressors\")\n",
    "pylab.plot(tpmRange, unknownSupsPercs,\"--\", color=\"red\" , label=\"Unknown Splice Site Suppressors\")\n",
    "pylab.plot(tpmRange, knownOncsPercs, color=\"blue\" , label=\"Known Splice Site Oncogenes\")\n",
    "pylab.plot(tpmRange, unknownOncsPercs,\"--\", color=\"blue\" , label=\"Unknown Splice Site Oncogenes\")\n",
    "pylab.ylim(0,25)\n",
    "pylab.xlabel(\"Expression (TPM)\")\n",
    "pylab.ylabel(\"Percentage\")\n",
    "pylab.legend(fontsize=\"small\")\n",
    "pylab.savefig(\"./images/9_knownvsUnknown\", dpi=300)"
   ]
  },
  {
   "cell_type": "code",
   "execution_count": 15,
   "metadata": {
    "collapsed": false
   },
   "outputs": [],
   "source": [
    "\"\"\"\n",
    "Function returns the percentages of cancer genes above and below the supplied Length Value\n",
    "Input = length\n",
    "Output = cancer percentages (6 lists)\n",
    "\"\"\"\n",
    "\n",
    "def getLengthPercentages(Length):\n",
    "\n",
    "    LengthThreshold = Length\n",
    "    smallUtrons = lengthInfo[lengthInfo[\"Length\"]<=LengthThreshold]\n",
    "\n",
    "    shortUtrons = novelTpms[novelTpms[\"Name\"].isin(smallUtrons[\"transcript_id\"])]\n",
    "    longUtrons = novelTpms[~novelTpms[\"Name\"].isin(smallUtrons[\"transcript_id\"])]\n",
    "\n",
    "\n",
    "\n",
    "    shortOncsArray, shortSupsArray, shortUnksArray = getCancerPercentages(shortUtrons, 1)\n",
    "    longOncsArray, longSupsArray, longUnksArray = getCancerPercentages(longUtrons, 1)\n",
    "\n",
    "\n",
    "    for num in range(2, sampleCount, 1):\n",
    "        if num != 252 and num != 347:\n",
    "            a , b ,c = getCancerPercentages(shortUtrons, num)\n",
    "            shortOncsArray = np.column_stack([shortOncsArray, a])\n",
    "            shortSupsArray = np.column_stack([shortSupsArray, b])\n",
    "            shortUnksArray = np.column_stack([shortUnksArray, c])\n",
    "\n",
    "            a , b ,c = getCancerPercentages(knownSpliceUtrons, num)\n",
    "            longOncsArray = np.column_stack([longOncsArray, a])\n",
    "            longSupsArray = np.column_stack([longSupsArray, b])\n",
    "            longUnksArray = np.column_stack([longUnksArray, c])\n",
    "\n",
    "    shortOncsPercs = averageArray(shortOncsArray)\n",
    "    shortSupsPercs = averageArray(shortSupsArray)\n",
    "    shortUnksPercs = averageArray(shortUnksArray)\n",
    "\n",
    "    longOncsPercs = averageArray(longOncsArray)\n",
    "    longSupsPercs = averageArray(longSupsArray)\n",
    "    longUnksPercs = averageArray(longUnksArray)\n",
    "    \n",
    "    \n",
    "    return shortOncsPercs, shortSupsPercs, shortUnksPercs, longOncsPercs, longSupsPercs, longUnksPercs"
   ]
  },
  {
   "cell_type": "code",
   "execution_count": 16,
   "metadata": {
    "collapsed": false
   },
   "outputs": [],
   "source": [
    "shortOncsPercs, shortSupsPercs, shortUnksPercs, longOncsPercs, longSupsPercs, longUnksPercs = getLengthPercentages(150)"
   ]
  },
  {
   "cell_type": "code",
   "execution_count": 95,
   "metadata": {
    "collapsed": false
   },
   "outputs": [
    {
     "data": {
      "image/png": "[encoded data removed]",
      "text/plain": [
       "<matplotlib.figure.Figure at 0x7f17b62fd090>"
      ]
     },
     "metadata": {},
     "output_type": "display_data"
    }
   ],
   "source": [
    "pylab.plot(tpmRange, longSupsPercs, color=\"red\", label=\">1500bp Suppressors\")\n",
    "pylab.plot(tpmRange, shortSupsPercs,\":k\", color=\"red\", label=\"<200bp Suppressors\")\n",
    "pylab.plot(tpmRange, longOncsPercs, color=\"blue\", label=\">150bp Oncogenes\")\n",
    "pylab.plot(tpmRange, shortOncsPercs,\":k\", color=\"blue\", label=\"<200bp Oncogenes\")\n",
    "pylab.ylim(0,25)\n",
    "pylab.xlabel(\"Expression (TPM)\")\n",
    "pylab.ylabel(\"Percentage\")\n",
    "pylab.legend(fontsize=\"small\")\n",
    "pylab.savefig(\"./images/9_longvsshort\", dpi=300)"
   ]
  },
  {
   "cell_type": "code",
   "execution_count": 165,
   "metadata": {
    "collapsed": false
   },
   "outputs": [],
   "source": [
    "\"\"\"\n",
    "Finding IDs of cancerous UTRons\n",
    "\"\"\"\n",
    "\n",
    "\n",
    "\"\"\"\n",
    "Function getIds\n",
    "1 - inputs samplenumber , dataframe and tpm threshold\n",
    "2 - outputs list of oncogenes, suppressor genes and unknown genes above the threshold for the sample\n",
    "\"\"\"\n",
    "\n",
    "def getIds(sampleNumber, Dataframe, tpm):\n",
    "    sampleIndex = \"TPM_%d\" % sampleNumber\n",
    "    sampleDataframe = Dataframe[[\"Name\", \"Gene\",sampleIndex, \"Cancer\", \"Splice\"]]\n",
    "    \n",
    "    # Lists to hold percentages\n",
    "    oncogeneList = []\n",
    "    suppressorList = []\n",
    "    unknownList = []\n",
    "    \n",
    "    sampleTpmValues = sampleDataframe[sampleDataframe[sampleIndex] >= tpm]\n",
    "    sampleTpmValues = sampleTpmValues[sampleTpmValues[\"Splice\"]==1]\n",
    "    \n",
    "    oncogeneTpms = sampleTpmValues[sampleTpmValues[\"Cancer\"]==\"oncogene\"]\n",
    "    suppressorTpms = sampleTpmValues[sampleTpmValues[\"Cancer\"]==\"suppressor\"]\n",
    "    unknownTpms = sampleTpmValues[sampleTpmValues[\"Cancer\"]==\"unknown\"]\n",
    "    \n",
    "    return oncogeneTpms[[\"Name\", \"Gene\"]], suppressorTpms[[\"Name\", \"Gene\"]], unknownTpms[[\"Name\", \"Gene\"]]\n",
    "        \n",
    "        \n",
    "oncogeneDf, suppressorDf, unknownDf = getIds(1, knownTpms, 400)\n",
    "for num in range(2, sampleCount, 1):\n",
    "    if num != 252 and num != 347:\n",
    "        a , b ,c = getIds(num, knownTpms, 400)\n",
    "        oncogeneDf = pd.concat([oncogeneDf, a], axis=0) \n",
    "        suppressorDf = pd.concat([suppressorDf, b], axis=0) \n",
    "        unknownDf = pd.concat([unknownDf, c], axis=0) \n",
    "        \n",
    "oncogeneDf = oncogeneDf.drop_duplicates(\"Name\")\n",
    "suppressorDf = suppressorDf.drop_duplicates(\"Name\")\n",
    "unknownDf = unknownDf.drop_duplicates(\"Name\")"
   ]
  },
  {
   "cell_type": "code",
   "execution_count": 166,
   "metadata": {
    "collapsed": false
   },
   "outputs": [],
   "source": [
    "tpm = 400\n",
    "\n",
    "oncogeneDf.to_csv(\"/shared/sudlab1/General/projects/utrons_project/misc_files/cancerUtrons/oncogenes_%dTPM.txt\" % tpm, sep=\"\\t\", header=None, index=None)\n",
    "suppressorDf.to_csv(\"/shared/sudlab1/General/projects/utrons_project/misc_files/cancerUtrons/suppresor_%dTPM.txt\" % tpm, sep=\"\\t\", header=None, index=None)\n",
    "unknownDf.to_csv(\"/shared/sudlab1/General/projects/utrons_project/misc_files/cancerUtrons/unknown_%dTPM.txt\" % tpm, sep=\"\\t\", header=None, index=None)"
   ]
  },
  {
   "cell_type": "code",
   "execution_count": 167,
   "metadata": {
    "collapsed": false
   },
   "outputs": [
    {
     "name": "stdout",
     "output_type": "stream",
     "text": [
      "                  Name       Gene\n",
      "1641   ENST00000356674  HNRNPA2B1\n",
      "14134  ENST00000547914       NACA\n",
      "2384   ENST00000377795       CD74\n",
      "16027  ENST00000566564       MMP2\n",
      "32568   MSTRG.77569.12      COX6C\n",
      "25530   MSTRG.33994.10      H3F3B\n",
      "3082   ENST00000398137      U2AF1\n",
      "4692   ENST00000429589     EIF4A2\n",
      "11452  ENST00000522377      NDRG1\n",
      "8546   ENST00000485118       MUC1\n",
      "6947   ENST00000462317       MUC1\n",
      "32574    MSTRG.77569.9      COX6C\n",
      "17701  ENST00000586967       CALR\n",
      "10951  ENST00000517682      COX6C\n",
      "14576  ENST00000553237       CDK4\n",
      "6346   ENST00000452625      MYH11\n",
      "10945  ENST00000517599      NDRG1\n",
      "11438  ENST00000522246       CD74\n",
      "11683  ENST00000524245      COX6C\n",
      "19215  ENST00000610468       MUC1\n",
      "32570   MSTRG.77569.15      COX6C\n",
      "466    ENST00000269571      ERBB2\n",
      "11521  ENST00000522934      COX6C\n",
      "9379   ENST00000496706      YWHAE\n",
      "17812  ENST00000588032       TPM4\n",
      "17307  ENST00000582648      ERBB2\n",
      "9478   ENST00000498431       MUC1\n",
      "21028   MSTRG.11829.27       HRAS\n",
      "19158  ENST00000607954      PLCG1\n",
      "11004  ENST00000518171      COX6C\n",
      "11545  ENST00000523208       CD74\n",
      "21421   MSTRG.13555.20      CCND1\n",
      "11248  ENST00000520468      COX6C\n",
      "16643  ENST00000573196      YWHAE\n",
      "11523  ENST00000522940      COX6C\n",
      "7206   ENST00000466227      YWHAE\n",
      "6442   ENST00000454011       RHOA\n",
      "32572    MSTRG.77569.5      COX6C\n",
      "16222  ENST00000568368       GOT2\n",
      "16863  ENST00000576790      MYH11\n",
      "14232  ENST00000549106      ALDH2\n",
      "674    ENST00000297564      COX6C\n",
      "21428   MSTRG.13555.30      CCND1\n",
      "21429   MSTRG.13555.32      CCND1\n",
      "32571    MSTRG.77569.3      COX6C\n",
      "4516   ENST00000426808     EIF4A2\n",
      "5733   ENST00000443963     EIF4A2\n"
     ]
    }
   ],
   "source": [
    "print oncogeneDf"
   ]
  },
  {
   "cell_type": "code",
   "execution_count": 168,
   "metadata": {
    "collapsed": false
   },
   "outputs": [
    {
     "name": "stdout",
     "output_type": "stream",
     "text": [
      "                  Name    Gene\n",
      "1498   ENST00000349264     B2M\n",
      "3540   ENST00000412585   HLA-B\n",
      "15104  ENST00000557901     B2M\n",
      "23394   MSTRG.26040.11     B2M\n",
      "15464  ENST00000561139     B2M\n",
      "15493  ENST00000561424     B2M\n",
      "13824  ENST00000544417     B2M\n",
      "23397    MSTRG.26040.4     B2M\n",
      "23396    MSTRG.26040.3     B2M\n",
      "10192  ENST00000508608    CAST\n",
      "10392  ENST00000510500    CAST\n",
      "32796    MSTRG.79128.1  CDKN2A\n"
     ]
    }
   ],
   "source": [
    "print suppressorDf"
   ]
  },
  {
   "cell_type": "code",
   "execution_count": 169,
   "metadata": {
    "collapsed": false
   },
   "outputs": [
    {
     "name": "stdout",
     "output_type": "stream",
     "text": [
      "                  Name    Gene\n",
      "11609  ENST00000523636  PABPC1\n",
      "10985  ENST00000517990  PABPC1\n",
      "11292  ENST00000520868  PABPC1\n",
      "32539   MSTRG.77274.22  PABPC1\n",
      "21095    MSTRG.11990.3    LDHA\n",
      "11089  ENST00000519004  PABPC1\n",
      "4493   ENST00000426447   PDAP1\n",
      "11152  ENST00000519622  PABPC1\n",
      "32538   MSTRG.77274.19  PABPC1\n",
      "13893  ENST00000545215    LDHA\n",
      "16381  ENST00000569857     PKM\n",
      "2462   ENST00000379412    LDHA\n",
      "11454  ENST00000522387  PABPC1\n",
      "20715     MSTRG.108.41    GNB1\n",
      "13535  ENST00000541097    LDHA\n",
      "8656   ENST00000486690    LDHA\n",
      "12744  ENST00000532746    RPS2\n",
      "13136  ENST00000536528    LDHA\n",
      "5859   ENST00000445558   PSMD2\n",
      "5100   ENST00000435120    MLF2\n"
     ]
    }
   ],
   "source": [
    "print unknownDf"
   ]
  }
 ],
 "metadata": {
  "kernelspec": {
   "display_name": "Python 2",
   "language": "python",
   "name": "python2"
  },
  "language_info": {
   "codemirror_mode": {
    "name": "ipython",
    "version": 2
   },
   "file_extension": ".py",
   "mimetype": "text/x-python",
   "name": "python",
   "nbconvert_exporter": "python",
   "pygments_lexer": "ipython2",
   "version": "2.7.13"
  }
 },
 "nbformat": 4,
 "nbformat_minor": 2
}
