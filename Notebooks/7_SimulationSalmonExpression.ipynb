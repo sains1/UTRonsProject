{
 "cells": [
  {
   "cell_type": "markdown",
   "metadata": {},
   "source": [
    "#### Looking at the expression levels of groups of transcripts for salmon expression vals within simulation databases"
   ]
  },
  {
   "cell_type": "code",
   "execution_count": 1,
   "metadata": {
    "collapsed": false
   },
   "outputs": [
    {
     "data": {
      "text/plain": [
       "<sqlite3.Cursor at 0x7f04c2754340>"
      ]
     },
     "execution_count": 1,
     "metadata": {},
     "output_type": "execute_result"
    }
   ],
   "source": [
    "import sqlite3\n",
    "import pandas as pd\n",
    "import math\n",
    "import numpy as np\n",
    "\n",
    "cnx = sqlite3.connect('/shared/sudlab1/General/projects/utrons_project/Simulations/SimulationUtronsQuant/SimulationUtrons.salmon.db') # connect to salmon db\n",
    "cnx.execute(\"ATTACH '/shared/sudlab1/General/annotations/hg38_noalt_ensembl85/csvdb' as annotations\") # attach annotations"
   ]
  },
  {
   "cell_type": "code",
   "execution_count": 2,
   "metadata": {
    "collapsed": true
   },
   "outputs": [],
   "source": [
    "\"\"\"\n",
    "Get Salmon Tpms\n",
    "\"\"\"\n",
    "\n",
    "def salmonTpms(sample, runnum):\n",
    "\n",
    "    #  query1 = Ensembl genes\n",
    "    query_text1 = '''\n",
    "    SELECT name, TPM\n",
    "    FROM salmon_quant AS q\n",
    "    WHERE q.track=\"'''+sample+'''\" AND Name like \"ENS%\"\n",
    "    ORDER BY name\n",
    "    '''\n",
    "    \n",
    "    # query2 = stringtie genes\n",
    "    query_text2 = '''\n",
    "    SELECT name, TPM\n",
    "    FROM salmon_quant AS q\n",
    "    WHERE q.track=\"'''+sample+'''\" AND name like \"MSTRG%\"\n",
    "    ORDER BY name\n",
    "    '''\n",
    "    \n",
    "    # query3 = novel UTRon genes\n",
    "    query_text3 = '''\n",
    "    SELECT name, TPM\n",
    "    FROM salmon_quant AS q\n",
    "    INNER JOIN novel_utrons_ids AS uid\n",
    "    ON q.name=uid.transcript_id\n",
    "    WHERE q.track=\"'''+sample+'''\" AND name like \"MSTRG%\" AND uid.track=\"agg-agg-agg\"\n",
    "    ORDER BY name\n",
    "    '''\n",
    "     \n",
    "    # Get tpms for ensembl, stringtie and utron genes into dataframes\n",
    "    enstpms = pd.read_sql_query(query_text1, cnx) \n",
    "    mstrgtpms = pd.read_sql_query(query_text2, cnx)\n",
    "    utrontpms = pd.read_sql_query(query_text3, cnx)\n",
    "    \n",
    "    # If creating initial dataframe, drop FPKMs but keep t_names\n",
    "    if runnum == 1:\n",
    "        pass\n",
    "    # Else drop tx names\n",
    "    else:\n",
    "        enstpms.drop(['Name'], axis=1, inplace=True)\n",
    "        mstrgtpms.drop(['Name'], axis=1, inplace=True)\n",
    "        utrontpms.drop(['Name'], axis=1, inplace=True)\n",
    "        \n",
    "    return enstpms, mstrgtpms, utrontpms\n",
    "\n",
    "\n",
    "\n",
    "# Create initial dataframe by passing runnum == 1 and sample = GC-WT-1\n",
    "salmonEnsembl, salmonMstrg, salmonUtron = salmonTpms(\"GC-WT-1\", 1)\n",
    "\n",
    "# Loop through remaining samples and concatenate databases together\n",
    "for num in range(2,41,1):\n",
    "    sample = \"GC-WT-\" + str(num)\n",
    "    ens, mstrg, utron = salmonTpms(sample, 0)\n",
    "    salmonEnsembl = pd.concat([salmonEnsembl, ens],axis=1)\n",
    "    salmonMstrg = pd.concat([salmonMstrg, mstrg],axis=1)\n",
    "    salmonUtron = pd.concat([salmonUtron, utron],axis=1)"
   ]
  },
  {
   "cell_type": "raw",
   "metadata": {},
   "source": [
    "Now have 3 databases\n",
    "\n",
    "Ensembl genes = reference genes\n",
    "MSTRG genes = stringTie assembled genes that don't match those in the references\n",
    "Utron genes = systematic UTRon genes"
   ]
  },
  {
   "cell_type": "code",
   "execution_count": 19,
   "metadata": {
    "collapsed": false
   },
   "outputs": [
    {
     "name": "stderr",
     "output_type": "stream",
     "text": [
      "/home/mba13ns/anaconda2/lib/python2.7/site-packages/ipykernel/__main__.py:8: RuntimeWarning: divide by zero encountered in log\n"
     ]
    }
   ],
   "source": [
    "\"\"\"\n",
    "Get gene Averages before plotting\n",
    "\"\"\"\n",
    "def getAverage(row):\n",
    "    return row.ix[1:].sum() / len(row.ix[1:])\n",
    "    \n",
    "def logList(values):\n",
    "    values = np.log(values)\n",
    "    return values\n",
    "    \n",
    "# Get gene averages    \n",
    "salmonUtron[\"average\"] = salmonUtron.apply(getAverage, axis=1)\n",
    "salmonEnsembl[\"average\"] = salmonEnsembl.apply(getAverage, axis=1)\n",
    "salmonMstrg[\"average\"] = salmonMstrg.apply(getAverage, axis=1)\n",
    "\n",
    "# Log gene averages\n",
    "utrons = logList(salmonUtron[\"average\"].tolist())\n",
    "ensembl = logList(salmonEnsembl[\"average\"].tolist())\n",
    "mstrg = logList(salmonMstrg[\"average\"].tolist())"
   ]
  },
  {
   "cell_type": "code",
   "execution_count": 52,
   "metadata": {
    "collapsed": false
   },
   "outputs": [],
   "source": [
    "\"\"\"\n",
    "Get  log average of averages \n",
    "\"\"\"\n",
    "ensemblAverage = salmonEnsembl[\"average\"].tolist()\n",
    "ensemblAverage = sum(ensemblAverage)/len(ensemblAverage)\n",
    "ensemblAverage = np.log(ensemblAverage)\n",
    "\n",
    "mstrgAverage = salmonMstrg[\"average\"].tolist()\n",
    "mstrgAverage = sum(mstrgAverage)/len(mstrgAverage)\n",
    "mstrgAverage = np.log(mstrgAverage)\n",
    "\n",
    "utronAverage = salmonUtron[\"average\"].tolist()\n",
    "utronAverage = sum(utronAverage)/len(utronAverage)\n",
    "utronAverage = np.log(utronAverage)"
   ]
  },
  {
   "cell_type": "code",
   "execution_count": 79,
   "metadata": {
    "collapsed": false
   },
   "outputs": [
    {
     "name": "stdout",
     "output_type": "stream",
     "text": [
      "Populating the interactive namespace from numpy and matplotlib\n"
     ]
    },
    {
     "data": {
      "image/png": "[encoded data removed]",
      "text/plain": [
       "<matplotlib.figure.Figure at 0x7f04b9640c10>"
      ]
     },
     "metadata": {},
     "output_type": "display_data"
    }
   ],
   "source": [
    "%pylab inline\n",
    "# Count number of genes in each list\n",
    "numEnsembl = len(ensembl); numUtrons = len(utrons); numMstrg = len(mstrg)\n",
    "\n",
    "# Make ranges to plot values\n",
    "ensemblRange = range(5000, numEnsembl+5000, 1); maxens = max(ensemblRange) + 5000\n",
    "mstrgRange = range(maxens, maxens+numMstrg, 1); maxmstrg = max(mstrgRange) + 5000\n",
    "utronRange = range(maxmstrg, maxmstrg+numUtrons, 1); maxutron = max(utronRange) + 5000\n",
    "\n",
    "# Plot values\n",
    "pylab.plot(ensemblRange, ensembl, ',', color=\"red\")\n",
    "pylab.plot(mstrgRange, mstrg, ',', color=\"blue\")\n",
    "pylab.plot(utronRange, utrons, ',', color=\"orange\")\n",
    "\n",
    "# Plot Averages for each group\n",
    "pylab.plot(maxens-5000,ensemblAverage, '_', color=\"black\")\n",
    "pylab.plot(maxmstrg-5000,mstrgAverage, '_', color=\"black\")\n",
    "pylab.plot(maxutron-5000,utronAverage, '_', color=\"black\")\n",
    "\n",
    "\n",
    "# Set figure legend and horizontal line at 0\n",
    "pylab.plot(0,0, color=\"red\", label=\"Reference Genes\")\n",
    "pylab.plot(0,0, color=\"blue\", label=\"StringTie Genes\")\n",
    "pylab.plot(0,0, color=\"orange\", label=\"Novel UTRons\")\n",
    "pylab.plot([0,maxutron], [0,0],\":k\", color='black')\n",
    "\n",
    "\n",
    "# Figure Options\n",
    "pylab.xlim(0, maxutron)\n",
    "pylab.ylim(-20, 5)\n",
    "pylab.legend(bbox_to_anchor=(0., 1.02, 1., .102), loc=3,ncol=5, mode=\"expand\", borderaxespad=0.,fontsize='x-small')\n",
    "pylab.ylabel(\"Expression estimate (TPM)\")\n",
    "pylab.tick_params(axis='x', which='both', bottom='off',top='off',labelbottom='off') \n",
    "\n",
    "pylab.savefig(\"./images/7_SimulationExpression\", dpi=500)"
   ]
  },
  {
   "cell_type": "markdown",
   "metadata": {},
   "source": [
    "- Stringtie expression levels look < than reference levels and UTRons are << than reference"
   ]
  },
  {
   "cell_type": "code",
   "execution_count": 91,
   "metadata": {
    "collapsed": false
   },
   "outputs": [
    {
     "data": {
      "image/png": "[encoded data removed]",
      "text/plain": [
       "<matplotlib.figure.Figure at 0x7f04bd721dd0>"
      ]
     },
     "metadata": {},
     "output_type": "display_data"
    }
   ],
   "source": [
    "pylab.plot(utrons, '+', color=\"orange\")\n",
    "pylab.plot([0,300], [utronAverage]*2, color=\"black\", alpha=0.5)\n",
    "pylab.plot([0,300], [0,0], ':k')\n",
    "pylab.xlim(0,300)\n",
    "pylab.ylim(-20,5)\n",
    "pylab.ylabel(\"Expression estimate (TPM)\")\n",
    "\n",
    "pylab.tick_params(axis='x', which='both', bottom='off',top='off',labelbottom='off') \n",
    "pylab.savefig(\"images/7_UtronExpression.png\", dpi=300)"
   ]
  },
  {
   "cell_type": "markdown",
   "metadata": {},
   "source": [
    "- zoom in of utrons show most are below the 1 tpm line"
   ]
  }
 ],
 "metadata": {
  "kernelspec": {
   "display_name": "Python 2",
   "language": "python",
   "name": "python2"
  },
  "language_info": {
   "codemirror_mode": {
    "name": "ipython",
    "version": 2
   },
   "file_extension": ".py",
   "mimetype": "text/x-python",
   "name": "python",
   "nbconvert_exporter": "python",
   "pygments_lexer": "ipython2",
   "version": "2.7.13"
  }
 },
 "nbformat": 4,
 "nbformat_minor": 2
}
